{
  "nbformat": 4,
  "nbformat_minor": 0,
  "metadata": {
    "colab": {
      "provenance": []
    },
    "kernelspec": {
      "name": "python3",
      "display_name": "Python 3"
    },
    "language_info": {
      "name": "python"
    }
  },
  "cells": [
    {
      "cell_type": "markdown",
      "source": [
        "Q1) What is hypothesis testing in statistics ?\n",
        "  - Hypothesis testing is a statistical method used to make decisions about a population based on sample data. It involves formulating two competing hypotheses, the null hypothesis and the alternative hypothesis, and then using statistical tests to determine which hypothesis is more likely to be true.\n",
        "\n",
        "  - Here's a breakdown of the steps involved in hypothesis testing:\n",
        "\n",
        "  - Formulate the null hypothesis (H0) and the alternative hypothesis (H1 or Ha). The null hypothesis is a statement of no effect or no difference, while the alternative hypothesis is the statement you want to test.\n",
        "\n",
        "  - Collect data. Gather a sample of data from the population you're interested in.\n",
        "\n",
        "  Choose a test statistic. Select an appropriate test statistic based on the type of data and the hypothesis being tested. Common test statistics include the t-statistic, z-statistic, and chi-squared statistic.\n",
        "\n",
        "  - Calculate the p-value. The p-value is the probability of observing the data if the null hypothesis is true. A low p-value suggests that the null hypothesis is unlikely to be true.\n",
        "\n",
        "  - Make a decision. Compare the p-value to a significance level (alpha), which is typically set at 0.05. If the p-value is less than alpha, you reject the null hypothesis in favor of the alternative hypothesis. If the p-value is greater than alpha, you fail to reject the null hypothesis."
      ],
      "metadata": {
        "id": "_-HnTwIiR4lV"
      }
    },
    {
      "cell_type": "markdown",
      "source": [
        "2) ***what is the null hypothesis and how does it differ from the alternative hypothesis ?***\n",
        "  - Null Hypothesis (H0)\n",
        "\n",
        "   - Definition: The null hypothesis is a statement that assumes there is no significant difference, effect, or relationship between the variables being studied. It's essentially the \"status quo\" or the default assumption.\n",
        "Purpose: It serves as a baseline against which we compare our data to see if there's enough evidence to reject it.\n",
        "Example: If you're testing whether a new drug is effective, the null hypothesis would be that the drug has no effect on the patient's condition.\n",
        "\n",
        "Alternative Hypothesis (H1 or Ha)\n",
        "\n",
        "  - Definition: The alternative hypothesis is the opposite of the null hypothesis. It proposes that there is a significant difference, effect, or relationship between the variables. It's what you're trying to prove or find evidence for.\n",
        "Purpose: It represents the research question or the claim you're investigating."
      ],
      "metadata": {
        "id": "d3RPGOOUaRHJ"
      }
    },
    {
      "cell_type": "markdown",
      "source": [
        "***3) What is the significance level in hypothesis testing and why it is important ?***\n",
        " - In hypothesis testing, the significance level, often denoted by alpha (α), is a threshold used to determine whether to reject the null hypothesis. It represents the probability of rejecting the null hypothesis when it is actually true (Type I error).\n",
        "\n",
        "- Importance of Significance Level\n",
        "\n",
        " - Controlling Type I Error: The significance level helps control the risk of making a Type I error, which is incorrectly rejecting the null hypothesis when it is true. By setting a lower significance level (e.g., 0.05), we reduce the chance of falsely concluding that there is a significant effect when there isn't.\n",
        "\n",
        " - Decision Making: It provides a clear criterion for making a decision about the null hypothesis. If the p-value (probability of observing the data if the null hypothesis is true) is less than or equal to the significance level, we reject the null hypothesis. Otherwise, we fail to reject it.\n",
        "\n",
        "- Confidence in Results: A lower significance level increases our confidence in the results. If we reject the null hypothesis at a lower significance level, it suggests stronger evidence against the null hypothesis.\n",
        "\n",
        " - Balancing Risks: The significance level helps balance the risks of Type I and Type II errors (failing to reject the null hypothesis when it is false). A lower significance level reduces the risk of Type I error but increases the risk of Type II error. The choice of significance level depends on the specific research context and the relative importance of these errors.\n",
        "\n",
        "- Common Significance Levels\n",
        "\n",
        "  - 0.05 (5%): This is the most commonly used significance level in many fields. It implies a 5% chance of rejecting the null hypothesis when it is true.\n",
        "  - 0.01 (1%): This level is used when a higher degree of confidence is required, such as in medical research or when the consequences of a Type I error are severe.\n",
        "  - 0.10 (10%): This level is used when a lower degree of confidence is acceptable, such as in exploratory researc"
      ],
      "metadata": {
        "id": "-PNobd4XcCFh"
      }
    },
    {
      "cell_type": "markdown",
      "source": [
        "***4) What does a P-value represent in hypothesis testing ?***\n",
        "  - In hypothesis testing, the p-value represents the probability of observing the obtained data (or more extreme data) if the null hypothesis is true.\n",
        "\n",
        "  - In simpler terms:\n",
        "\n",
        "  - It's the chance of seeing the results you got (or even more extreme results) purely by random chance if there's actually no real effect or difference (i.e., if the null hypothesis is correct).\n",
        "\n",
        "\n",
        "- Here's a breakdown with an example:\n",
        "\n",
        "  - Null Hypothesis: Let's say you're testing a new drug and your null hypothesis is that the drug has no effect on blood pressure.\n",
        "\n",
        "  - Experiment: You conduct an experiment and find that the drug seems to lower blood pressure in your sample.\n",
        "\n",
        "- P-value Calculation: The p-value would tell you the probability of observing this blood pressure reduction (or an even greater reduction) if the drug actually had no effect (if the null hypothesis were true).\n",
        "\n",
        "- Interpretation:\n",
        "\n",
        "  - Low p-value (e.g., less than 0.05): It's unlikely to have seen these results just by chance if the drug had no effect. This provides evidence against the null hypothesis, suggesting the drug might actually be effective.\n",
        "  - High p-value (e.g., greater than 0.05): The results could have easily occurred by chance even if the drug had no effect. This doesn't provide strong evidence against the null hypothesis, so you wouldn't have enough reason to conclude that the drug is effective"
      ],
      "metadata": {
        "id": "wTbibNUPcvuq"
      }
    },
    {
      "cell_type": "markdown",
      "source": [
        "***5) How do you interpret the P-value in hypothesis testing ?***\n",
        "  - The p-value represents the probability of observing the obtained data (or more extreme data) if the null hypothesis is true. In simpler terms, it's the chance of seeing the results you got (or even more extreme results) purely by random chance if there's actually no real effect or difference (i.e., if the null hypothesis is correct).\n",
        "\n",
        " - Interpretation\n",
        "\n",
        "  - Low p-value (typically less than 0.05): This suggests that it's unlikely to have seen the observed results just by chance if the null hypothesis were true. This provides evidence against the null hypothesis, leading you to reject it in favor of the alternative hypothesis. In other words, there's a statistically significant effect or difference.\n",
        "\n",
        "  - High p-value (typically greater than 0.05): This suggests that the results could have easily occurred by chance even if the null hypothesis were true. This doesn't provide strong evidence against the null hypothesis, so you would fail to reject it. In other words, there's no statistically significant effect or difference.\n",
        "\n",
        "  - Example\n",
        "\n",
        "  - Let's say you're testing whether a new drug is effective in lowering blood pressure, and you get a p-value of 0.02. This means there's only a 2% chance of seeing the observed blood pressure reduction (or an even greater reduction) if the drug actually had no effect. Since this p-value is less than the typical significance level of 0.05, you would reject the null hypothesis and conclude that the drug is likely effective.\n",
        "\n"
      ],
      "metadata": {
        "id": "vwaCR2xpdUhu"
      }
    },
    {
      "cell_type": "markdown",
      "source": [
        "***6) What are type 1 and type 2 error in hypothesis testing ?***\n",
        "  - Type I Error (False Positive)\n",
        "\n",
        "   - Definition: A Type I error occurs when you reject the null hypothesis when it is actually true. It's like saying there's an effect when there really isn't.\n",
        "\n",
        "   - Analogy: Imagine a fire alarm going off when there's no fire. That's a false alarm (Type I error).\n",
        "\n",
        "   - Consequences: You might make incorrect conclusions and take actions based on a false positive result.\n",
        "\n",
        "    - Probability: The probability of making a Type I error is denoted by alpha (α), and it's usually set at 0.05 (5%). This means there's a 5% chance of rejecting the null hypothesis when it's actually true.\n",
        "\n",
        "- Type II Error (False Negative)\n",
        "\n",
        "  - Definition: A Type II error occurs when you fail to reject the null hypothesis when it is actually false. It's like saying there's no effect when there really is one.\n",
        "\n",
        "  - Analogy: Imagine a fire alarm not going off when there's a real fire. That's a missed detection (Type II error).\n",
        "\n",
        "  - Consequences: You might miss an important discovery or fail to take necessary action.\n",
        "\n",
        "  - Probability: The probability of making a Type II error is denoted by beta (β). The power of a test (1 - β) is the probability of correctly rejecting the null hypothesis when it's false."
      ],
      "metadata": {
        "id": "wIWQhwIgdzrl"
      }
    },
    {
      "cell_type": "markdown",
      "source": [
        "***7) What is the difference between a one tailed and two tailed test in hypothesis testing ?***\n",
        "  - One-Tailed Test\n",
        "\n",
        "   - Direction: A one-tailed test is used when you have a specific direction in mind for the effect you're testing. You're only interested in whether the effect is greater than or less than a certain value, but not both.\n",
        "   - Hypothesis: The alternative hypothesis (H1) in a one-tailed test specifies the direction of the effect. For example, it might state that a new drug increases blood pressure or that a training program improves performance.\n",
        "   - Critical Region: The critical region for a one-tailed test is located on one side of the distribution, either the left or the right, depending on the direction of the hypothesis.\n",
        "   - Example: If you're testing whether a new drug increases blood pressure, you'd use a one-tailed test with the alternative hypothesis that the drug increases blood pressure.\n",
        "\n",
        "\n",
        "- Two-Tailed Test\n",
        "\n",
        "  - Direction: A two-tailed test is used when you're interested in whether there's any difference between two groups or conditions, regardless of the direction. You're not specifying whether one group will be higher or lower than the other.\n",
        "  - Hypothesis: The alternative hypothesis (H1) in a two-tailed test simply states that there is a difference between the groups, without specifying the direction.\n",
        "  - Critical Region: The critical region for a two-tailed test is split into two halves, one on each side of the distribution.\n",
        "  - Example: If you're testing whether there's a difference in blood pressure between two groups of patients, you'd use a two-tailed test with the alternative hypothesis that there is a difference in blood pressure between the groups.\n"
      ],
      "metadata": {
        "id": "X1hIs5d_eXSF"
      }
    },
    {
      "cell_type": "markdown",
      "source": [
        "***8) What is the z- test and when is it used in hypothesis testing ?***\n",
        "  - What is a z-test?\n",
        "\n",
        "   - A z-test is a statistical test used to determine whether two population means are different when the population variances are known and the sample size is large. It's based on the standard normal distribution (z-distribution).\n",
        "\n",
        "- When is a z-test used?\n",
        "\n",
        "  - A z-test is used under these conditions:\n",
        "\n",
        "  - Comparing two means: You want to compare the means of two populations. For example, comparing the average height of men and women.\n",
        "  -  variance is known: You know the population variance or standard deviation for both populations you are comparing.\n",
        "  - Large sample size: You have a relatively large sample size (typically, n ≥ 30) in each group. This ensures the sampling distribution of the means is approximately normal due to the central limit theorem."
      ],
      "metadata": {
        "id": "8hOZGTmje88g"
      }
    },
    {
      "cell_type": "markdown",
      "source": [
        "***9) How do calculate the z-score and what does it represent in hypothesis tesing ?***\n",
        "  - Calculating the Z-score\n",
        "\n",
        "  - The Z-score is calculated using the following formula:"
      ],
      "metadata": {
        "id": "FXyngj-Yfq1b"
      }
    },
    {
      "cell_type": "code",
      "source": [
        "z = (x - μ) / σ"
      ],
      "metadata": {
        "id": "ZkGJvGMHf7QR"
      },
      "execution_count": null,
      "outputs": []
    },
    {
      "cell_type": "markdown",
      "source": [
        "- Where:\n",
        "\n",
        "  - x is the sample mean\n",
        "  - μ is the population mean\n",
        "  - σ is the population standard deviation\n",
        "\n",
        "- What the Z-score Represents in Hypothesis Testing\n",
        "\n",
        "  - In hypothesis testing, the Z-score represents the number of standard deviations a data point (or sample mean) is away from the population mean. It helps us determine how unusual or extreme a particular observation is compared to the expected distribution under the null hypothesis.\n",
        "\n",
        "- Here's how it's used in the context of hypothesis testing:\n",
        "\n",
        "  - We start with a null hypothesis, which assumes there's no significant difference or effect.\n",
        "  - We collect data and calculate the sample mean.\n",
        "  - We use the Z-score formula to calculate how far the sample mean is from the population mean (assuming the null hypothesis is true).\n",
        "  - We compare the Z-score to a critical value based on the desired significance level (alpha). The critical value defines the threshold beyond which we would reject the null hypothesis.\n",
        "  - If the Z-score exceeds the critical value, we reject the null hypothesis, suggesting that there is a statistically significant difference or effect"
      ],
      "metadata": {
        "id": "rPLel4cQf9gz"
      }
    },
    {
      "cell_type": "markdown",
      "source": [
        "***10) What is the T-distribution , and when it should be used instead of the normal distribution ?***\n",
        "  - What is the t-distribution?\n",
        "\n",
        "  - The t-distribution is a probability distribution that's similar in shape to the normal distribution but has heavier tails. This means it has more probability in the tails and less in the center compared to the normal distribution.\n",
        "\n",
        "  - When to use the t-distribution instead of the normal distribution\n",
        "\n",
        "  - You should use the t-distribution instead of the normal distribution in hypothesis testing when:\n",
        "\n",
        "  - The population standard deviation is unknown: If you only have the sample standard deviation as an estimate of the population standard deviation, the t-distribution is more appropriate.\n",
        "  - The sample size is small (typically less than 30): When the sample size is small, the sample standard deviation is a less reliable estimate of the population standard deviation. The t-distribution accounts for this extra uncertainty.\n",
        "\n"
      ],
      "metadata": {
        "id": "eRLU-sHYgS7n"
      }
    },
    {
      "cell_type": "markdown",
      "source": [
        "***11) What is the difference between a z-test and a T-test ?***\n",
        "  - Z-test\n",
        "\n",
        "  - When to use it: When you know the population standard deviation (σ) and have a large sample size (typically n ≥ 30).\n",
        "  - Underlying distribution: Based on the standard normal distribution (z-distribution).\n",
        "  - Calculation: Uses the population standard deviation in the formula:\n",
        "z = (x̄ - μ) / (σ / √n)"
      ],
      "metadata": {
        "id": "yYVxuuOvgujv"
      }
    },
    {
      "source": [
        "z = (x̄ - μ) / (σ / √n)"
      ],
      "cell_type": "code",
      "metadata": {
        "id": "nqdvdvY_g_Xm"
      },
      "execution_count": null,
      "outputs": []
    },
    {
      "cell_type": "markdown",
      "source": [
        "- Where: * x̄ is the sample mean * μ is the population mean * σ is the population standard deviation * n is the sample size\n",
        "\n",
        "- T-test\n",
        "\n",
        "  - When to use it: When you don't know the population standard deviation and/or have a small sample size (typically n < 30).\n",
        "  - Underlying distribution: Based on the t-distribution, which has heavier tails than the normal distribution and adjusts for the uncertainty of using the sample standard deviation as an estimate of the population standard deviation.\n",
        "  - Calculation: Uses the sample standard deviation in the formula:"
      ],
      "metadata": {
        "id": "2Zb_hYt0hB1E"
      }
    },
    {
      "source": [
        "t = (x̄ - μ) / (s / √n)"
      ],
      "cell_type": "code",
      "metadata": {
        "id": "H-jU3amQhDN6"
      },
      "execution_count": null,
      "outputs": []
    },
    {
      "cell_type": "markdown",
      "source": [
        "***12) What is the T-test, and how is it used in hypothesis testing ?***\n",
        "   - What is a t-test?\n",
        "\n",
        "  - The t-test is a statistical test used to determine if there's a significant difference between the means of two groups. It's particularly useful when:\n",
        "\n",
        "  - You don't know the population standard deviation.\n",
        "You have a small sample size (typically less than 30).\n",
        "How is it used in hypothesis testing?\n",
        "\n",
        "  - Here's a breakdown of how the t-test is used in hypothesis testing:\n",
        "\n",
        "- Formulate Hypotheses:\n",
        "\n",
        "  - Null Hypothesis (H0): There's no significant difference between the means of the two groups.\n",
        "  - Alternative Hypothesis (H1): There is a significant difference between the means of the two groups.\n",
        "\n",
        "- Choose the Type of t-test:\n",
        "\n",
        "  - Independent Samples t-test: Used when comparing the means of two independent groups (e.g., comparing the test scores of students who received different teaching methods).\n",
        "  - Paired Samples t-test: Used when comparing the means of two related groups (e.g., comparing the blood pressure of patients before and after taking a medication).\n",
        "  - One-Sample t-test: Used when comparing the mean of a single group to a known value (e.g., comparing the average height of a sample of students to the national average height).\n",
        "\n",
        "- Calculate the t-statistic:\n",
        "\n",
        "  - The t-statistic measures the difference between the sample means relative to the variability within the groups. The formula varies slightly depending on the type of t-test.\n",
        "\n",
        "- Determine the Degrees of Freedom:\n",
        "\n",
        "  - Degrees of freedom (df) represent the number of independent pieces of information used to estimate a parameter. It's calculated differently for each type of t-test.\n",
        "\n",
        "- Find the p-value:\n",
        "\n",
        "  - The p-value is the probability of observing the obtained data (or more extreme data) if the null hypothesis is true.\n",
        "- Make a Decision:\n",
        "\n",
        "  - Compare the p-value to the significance level (alpha), typically set at 0.05.\n",
        "  - If the p-value is less than alpha, reject the null hypothesis, concluding there's a significant difference between the means.\n",
        "  - If the p-value is greater than alpha, fail to reject the null hypothesis, indicating no significant difference."
      ],
      "metadata": {
        "id": "dj1YmDJWhS_U"
      }
    },
    {
      "cell_type": "markdown",
      "source": [
        "***13) What is the relationship between Z- test and T- test in hypothesis testing ?***\n",
        "  \n",
        "  - Z-tests and T-tests are both statistical tests used to determine if there's a significant difference between the means of two groups. They are both based on the same underlying principles but differ in their assumptions and applications. Here's how they are related:\n",
        "\n",
        "- Similarities\n",
        "\n",
        "  - Both tests assess the difference between sample means.\n",
        "  - Both use a similar test statistic (z-score for Z-test, t-statistic for T-test) to measure the difference between the means in terms of standard deviations.\n",
        "  - Both use p-values to make decisions about the null hypothesis.\n",
        "\n",
        "- Key Difference\n",
        "\n",
        "  - The main difference lies in the knowledge about the population variance:\n",
        "\n",
        "  - Z-test: Used when the population standard deviation is known. This is typically rare in real-world scenarios, but might apply when dealing with large datasets or when working with established population parameters.\n",
        "  - T-test: Used when the population standard deviation is unknown and needs to be estimated from the sample data. This is more common in research.\n",
        "\n",
        "- Relationship\n",
        "\n",
        "  - The T-distribution is similar in shape to the Z-distribution (normal distribution) but has heavier tails. This means it accounts for the increased uncertainty when using the sample standard deviation as an estimate.\n",
        "  - As the sample size gets larger (typically n ≥ 30), the T-distribution approaches the Z-distribution. This is because the sample standard deviation becomes a more reliable estimate of the population standard deviation with larger samples.\n",
        "  - In practice, the T-test is often preferred, even with large sample sizes, as it is more robust and less sensitive to violations of the assumption of a known population standard deviation.\n"
      ],
      "metadata": {
        "id": "Iu2g335NibfJ"
      }
    },
    {
      "cell_type": "markdown",
      "source": [
        "***14) What is the confidence interval, and how is it used to interpret statistical result ?***\n",
        "  \n",
        " - What is a Confidence Interval?\n",
        "\n",
        "  - A confidence interval is a range of values within which we estimate a population parameter (like the population mean or proportion) to lie with a certain level of confidence. It's expressed as a range, such as \"95% confidence interval.\"\n",
        "\n",
        "- How is it used to Interpret Statistical Results?\n",
        "\n",
        "  - Confidence intervals provide a measure of uncertainty around our estimates. Here's how they help interpret statistical results:\n",
        "\n",
        "  - Estimating Population Parameters: Instead of relying on a single point estimate (like a sample mean), a confidence interval gives us a range of plausible values for the population parameter. This range considers the variability in the sample data.\n",
        "\n",
        "  - Assessing Significance: If a confidence interval for a difference between two groups (e.g., treatment vs. control) does not include zero, it suggests a statistically significant difference between the groups. This means the observed difference is unlikely to be due to chance alone.\n",
        "\n",
        "  - Practical Significance: Even if a result is statistically significant, the confidence interval can help assess its practical importance. A narrow confidence interval indicates a more precise estimate, while a wider interval suggests greater uncertainty.\n",
        "\n",
        "  - Comparing Groups: Confidence intervals can be used to visually compare the effects of different treatments or interventions. Overlapping intervals may indicate no significant difference, while non-overlapping intervals suggest a potential difference."
      ],
      "metadata": {
        "id": "iFIEuG5djZD5"
      }
    },
    {
      "cell_type": "markdown",
      "source": [
        "***15) What is the margin of error , and how does it affect the confidence interval ?***\n",
        "  \n",
        "\n",
        " - What is the Margin of Error?\n",
        "\n",
        "  - The margin of error is a measure of the uncertainty associated with a sample estimate of a population parameter (like the population mean or proportion). It represents the maximum likely difference between the sample estimate and the true population value.\n",
        "  - It's often expressed as a plus or minus (±) value, indicating the range within which the true population parameter is likely to fall.\n",
        "\n",
        "- How does it affect the Confidence Interval?\n",
        "\n",
        "  - The margin of error is directly related to the width of the confidence interval. A larger margin of error leads to a wider confidence interval, indicating greater uncertainty in the estimate. Conversely, a smaller margin of error results in a narrower confidence interval, suggesting a more precise estimate.\n",
        "  - The confidence interval is calculated by adding and subtracting the margin of error from the sample estimate."
      ],
      "metadata": {
        "id": "9PC-bbiNkFAC"
      }
    },
    {
      "cell_type": "markdown",
      "source": [
        "***16) How is Bayes' theorm used in statistics and what is its significance ?***\n",
        "  - Bayes' Theorem in Statistics\n",
        "\n",
        "   - Bayes' Theorem is a fundamental concept in statistics that provides a way to update our beliefs about an event based on new evidence. It's expressed mathematically as:"
      ],
      "metadata": {
        "id": "hpUDzmKXksvm"
      }
    },
    {
      "source": [
        "P(A|B) = [P(B|A) * P(A)] / P(B)"
      ],
      "cell_type": "code",
      "metadata": {
        "id": "hViVQh2ilC1x"
      },
      "execution_count": null,
      "outputs": []
    },
    {
      "cell_type": "markdown",
      "source": [
        "- Where:\n",
        "\n",
        "  - P(A|B) is the posterior probability of event A occurring given that event B has occurred.\n",
        "  - P(B|A) is the likelihood of event B occurring given that event A has occurred.\n",
        "  - P(A) is the prior probability of event A occurring.\n",
        "  - P(B) is the prior probability of event B occurring.\n",
        "\n",
        "- How it's Used\n",
        "  - Bayesian Inference: Bayes' Theorem is the foundation of Bayesian inference, a statistical approach that uses prior knowledge and new data to update probabilities and make inferences about unknown parameters.\n",
        "\n",
        " - Predictive Modeling: It's used in predictive modeling to estimate the probability of future events based on past data and prior beliefs.\n",
        "\n",
        " - Machine Learning: Many machine learning algorithms, like spam filters and medical diagnosis systems, are based on Bayesian principles.\n",
        "\n",
        " - Hypothesis Testing: Bayes factors, derived from Bayes' Theorem, are used for hypothesis testing, providing a way to compare the evidence for different hypotheses.\n",
        "\n",
        "- Significance\n",
        "\n",
        "  - Updating Beliefs: Bayes' Theorem allows us to update our beliefs in light of new evidence, providing a more nuanced and dynamic approach to statistical analysis.\n",
        "\n",
        "  - Incorporating Prior Knowledge: It allows us to incorporate prior knowledge or beliefs into our analysis, which can be especially valuable when data is limited.\n",
        "\n",
        "  - Handling Uncertainty: It provides a framework for quantifying and managing uncertainty in statistical models.\n",
        "\n",
        "  - Decision Making: Bayesian methods are increasingly used in decision-making processes, especially in fields like healthcare and finance, where the consequences of incorrect decisions can be significant."
      ],
      "metadata": {
        "id": "901OuVp8lFod"
      }
    },
    {
      "cell_type": "markdown",
      "source": [
        "***17) What is the chi-square distribution and when is it used ?***\n",
        "  - What is the Chi-Square Distribution?\n",
        "\n",
        "  - The chi-square distribution is a probability distribution that's used in statistics for various purposes, especially when dealing with categorical data. It's characterized by a single parameter called degrees of freedom (df), which determines its shape.\n",
        "\n",
        "- When is it Used?\n",
        "\n",
        "  - The chi-square distribution has several important applications in hypothesis testing and statistical inference:\n",
        "\n",
        "  - Goodness-of-Fit Test: This test is used to determine if a set of observed categorical data fits a specific expected distribution. For example, you might use it to see if the distribution of colors in a bag of candies matches the manufacturer's claim.\n",
        "\n",
        "  - Test of Independence: This test helps determine if two categorical variables are independent of each other. For example, you could use it to test whether there's an association between gender and political affiliation.\n",
        "\n",
        "  - Confidence Intervals for Variance: It can be used to construct confidence intervals for the variance of a population, which provides a range of plausible values for the variance based on sample data.\n",
        "\n",
        "  - Analyzing Contingency Tables: Contingency tables are used to summarize the relationship between two or more categorical variables. The chi-square test can be applied to analyze these tables and determine if there's a significant association between the variables."
      ],
      "metadata": {
        "id": "bBrzA4I4lnsQ"
      }
    },
    {
      "cell_type": "markdown",
      "source": [
        "***18) What is the chi-squarre goodness of fit test, and how is it applied ?***\n",
        "  - What is the Chi-Square Goodness of Fit Test?\n",
        "\n",
        "  - The chi-square goodness of fit test is a statistical test used to determine if a set of observed categorical data fits a specific expected distribution. In simpler terms, it helps us assess whether the observed frequencies of different categories in our data match what we would expect based on a theoretical or assumed distribution.\n",
        "\n",
        "- How is it Applied?\n",
        "\n",
        " Here's a breakdown of the steps involved in applying the chi-square goodness of fit test:\n",
        "\n",
        " - Formulate Hypotheses:\n",
        "\n",
        "   - Null Hypothesis (H0): The observed data fits the expected distribution.\n",
        "   - Alternative Hypothesis (H1): The observed data does not fit the expected distribution.\n",
        "\n",
        " - Collect Data:\n",
        "\n",
        "   - Gather categorical data and organize it into a frequency table, showing the observed frequencies for each category.\n",
        " - Calculate Expected Frequencies:\n",
        "\n",
        "   - Based on the expected distribution, calculate the expected frequencies for each category. This might involve using theoretical probabilities or proportions.\n",
        "Calculate the Chi-Square Statistic:\n",
        "\n",
        "The chi-square statistic measures the difference between the observed and expected frequencies. It's calculated using the following formula:\n",
        "\n",
        "χ² = Σ [(Observed Frequency - Expected Frequency)² / Expected Frequency]\n",
        "\n",
        " - Where the summation (Σ) is taken over all categories.\n",
        "- Determine Degrees of Freedom:\n",
        "\n",
        "  - Degrees of freedom (df) represent the number of independent pieces of information used to estimate a parameter. For the goodness of fit test, df = (Number of Categories - 1).\n",
        "  - Find the p-value:\n",
        "\n",
        "The p-value is the probability of observing the obtained data (or more extreme data) if the null hypothesis is true. It's calculated using the chi-square distribution with the calculated chi-square statistic and degrees of freedom.\n",
        "Make a Decision:\n",
        "\n",
        "Compare the p-value to the significance level (alpha), typically set at 0.05.\n",
        "If the p-value is less than alpha, reject the null hypothesis, concluding that the observed data does not fit the expected distribution.\n",
        "If the p-value is greater than alpha, fail to reject the null hypothesis, indicating that the observed data is consistent with the expected distribution."
      ],
      "metadata": {
        "id": "hW7e4f_NmJuj"
      }
    },
    {
      "cell_type": "markdown",
      "source": [
        "***19) What is the F-distribution and when is it used in hypothesis testing ?***\n",
        "  - Okay, here's an explanation of the F-distribution and its uses in hypothesis testing:\n",
        "\n",
        "What is the F-distribution?\n",
        "\n",
        "  - The F-distribution is a probability distribution that's used in statistical analysis, particularly in the context of analysis of variance (ANOVA) and regression analysis. It's characterized by two parameters: degrees of freedom for the numerator (df1) and degrees of freedom for the denominator (df2). These degrees of freedom determine the shape of the distribution.\n",
        "\n",
        "- When is it used in hypothesis testing?\n",
        "\n",
        " Here are some common scenarios where the F-distribution is used in hypothesis testing:\n",
        "\n",
        "  - ANOVA: ANOVA is used to compare the means of more than two groups. The F-test in ANOVA helps determine if there are significant differences among the group means. The F-statistic is calculated as the ratio of the variance between groups to the variance within groups. If the F-statistic is large enough (exceeds a critical value based on the F-distribution), it suggests that there are significant differences among the group means.\n",
        "\n",
        "  - Regression Analysis: In regression analysis, the F-test is used to assess the overall significance of the model. It helps determine if the predictor variables in the model are collectively explaining a significant amount of variation in the dependent variable. The F-statistic in regression compares the explained variance to the unexplained variance.\n",
        "\n",
        "  - Comparing Variances: The F-distribution can also be used to compare the variances of two populations. This is often done using the F-test for equality of variances. If the F-statistic is significantly different from 1, it suggests that the variances of the two populations are not equal."
      ],
      "metadata": {
        "id": "5YIAeshpncZb"
      }
    },
    {
      "cell_type": "markdown",
      "source": [
        "***20) What is an ANOVA test, and what are its assumption ?***\n",
        "  - What is an ANOVA test?\n",
        "\n",
        "  ANOVA stands for \"Analysis of Variance.\" It's a statistical test used to compare the means of two or more groups to see if there's a significant difference between them. ANOVA is particularly useful when you want to compare the means of more than two groups because doing multiple t-tests can increase the risk of Type I errors (false positives).\n",
        "\n",
        "- How does ANOVA work?\n",
        "\n",
        "  ANOVA works by analyzing the variance within and between the groups.\n",
        "\n",
        "  - It calculates the total variance in the data.\n",
        "  - Then, it partitions this variance into two components: variance within groups (due to random variation) and variance between groups (due to differences in group means).\n",
        "  - By comparing these two sources of variance, ANOVA determines if the differences between group means are statistically significant or just due to chance.\n",
        "\n",
        " If the variance between groups is significantly larger than the variance within groups, it suggests that there's a real difference between the group means.\n",
        "\n",
        "- Assumptions of ANOVA\n",
        "\n",
        "  ANOVA has a few key assumptions that need to be met for the results to be valid. Here are the main assumptions:\n",
        "\n",
        "  - Independence of Observations: The data points within and between groups should be independent of each other. This means that the value of one observation shouldn't influence the value of another observation.\n",
        "  - Homogeneity of Variances: The variances of the groups being compared should be roughly equal. This assumption ensures that the comparison of means is meaningful.\n",
        "  - Normality: The data within each group should follow a normal distribution. This assumption is less critical when the sample sizes are large due to the Central Limit Theorem.\n",
        "\n",
        "When to use ANOVA\n",
        "\n",
        " You would typically use ANOVA in situations where you have:\n",
        "\n",
        " - A continuous dependent variable.\n",
        " - One or more categorical independent variables (factors) with two or more levels (groups).\n",
        " - You want to compare the means of the groups to see if there's a significant difference"
      ],
      "metadata": {
        "id": "rBl7Iy7QoFbJ"
      }
    },
    {
      "cell_type": "markdown",
      "source": [
        "***21) What are the different types of ANOVA tests ?***\n",
        "  - 1.One-Way ANOVA\n",
        "\n",
        "   - Purpose: Used to compare the means of two or more groups (levels) of a single independent variable (factor).\n",
        "   - Example: Comparing the average test scores of students in three different teaching methods (factor: teaching method, levels: method 1, method 2, method 3).\n",
        "\n",
        "- 2. Two-Way ANOVA\n",
        "\n",
        "   - Purpose: Used to analyze the effects of two or more independent variables (factors) on a dependent variable. It can also examine the interaction between these factors.\n",
        "   - Example: Investigating the effects of both teaching method (factor 1) and student gender (factor 2) on test scores.\n",
        "\n",
        "- 3. Repeated Measures ANOVA\n",
        "   - Purpose: Used when the same subjects are measured under different conditions or at multiple time points. It helps determine if there are significant differences between the conditions or over time.\n",
        "   - Example: Comparing the blood pressure of patients before, during, and after a treatment.\n",
        "\n",
        "- 4. Factorial ANOVA\n",
        "\n",
        "   - Purpose: An extension of two-way ANOVA that can handle more than two independent variables (factors) and their interactions.\n",
        "   - Example: Examining the effects of teaching method, student gender, and student age on test scores.\n",
        "- 5. MANOVA (Multivariate Analysis of Variance)\n",
        "\n",
        "   - Purpose: Used when you have multiple dependent variables that you want to analyze simultaneously. It helps determine if there are significant differences between groups on a combination of dependent variables.\n",
        "   - Example: Comparing the effects of a new drug on both blood pressure and cholesterol levels.\n",
        "- 6. ANCOVA (Analysis of Covariance)\n",
        "\n",
        "   - Purpose: Similar to ANOVA but includes one or more continuous variables (covariates) to control for their potential influence on the dependent variable.\n",
        "   - Example: Comparing the test scores of students in different teaching methods while controlling for their prior academic performance (covariate)."
      ],
      "metadata": {
        "id": "IqBpDBzro9pv"
      }
    },
    {
      "cell_type": "markdown",
      "source": [
        "***22) What is the F-test and how does it relate to hypothesis testing ?***\n",
        "  - The F-test is a statistical test that uses the F-distribution to compare the variances of two or more groups or samples. It's a fundamental tool in hypothesis testing, particularly in the context of analysis of variance (ANOVA) and regression analysis.\n",
        "\n",
        "- How does it relate to hypothesis testing?\n",
        "\n",
        "  In hypothesis testing, the F-test is used to assess the significance of differences between group means or the overall significance of a regression model. Here's how it works:\n",
        "\n",
        "1) - Formulate Hypotheses:\n",
        "\n",
        "   - Null Hypothesis (H0): There is no significant difference between the group means (or the regression model has no predictive power).\n",
        "   - Alternative Hypothesis (H1): There is a significant difference between the group means (or the regression model has predictive power).\n",
        "\n",
        "2) Calculate the F-statistic:\n",
        "\n",
        "   - The F-statistic is calculated as the ratio of the variance between groups (or the explained variance in regression) to the variance within groups (or the unexplained variance in regression).\n",
        "\n",
        "3) Determine the Critical Value:\n",
        "\n",
        "  - Based on the chosen significance level (alpha) and the degrees of freedom, a critical value is obtained from the F-distribution table.\n",
        "\n",
        "4) Make a Decision:\n",
        "\n",
        "   - If the calculated F-statistic is greater than the critical value, we reject the null hypothesis, concluding that there is a significant difference between the group means (or the regression model is significant).\n",
        "   - If the calculated F-statistic is less than or equal to the critical value, we fail to reject the null hypothesis, indicating no significant difference (or the regression model is not significant).\n",
        "\n",
        "In simpler terms:\n",
        "\n",
        "The F-test helps us determine if the differences we observe between groups or the relationships we see in a regression model are likely due to real effects or just random chance. If the F-statistic is large enough, it suggests that the observed differences or relationships are unlikely to be due to chance alone, and we have evidence to support the alternative hypothesis.\n",
        "\n",
        "Key Applications:\n",
        "\n",
        "  - ANOVA: Used to compare the means of more than two groups.\n",
        "  - Regression Analysis: Used to assess the overall significance of a regression model.\n",
        "  - Comparing Variances: Used to test if the variances of two populations are equal."
      ],
      "metadata": {
        "id": "N0I0T9UWpq_8"
      }
    },
    {
      "cell_type": "markdown",
      "source": [
        "# ***PRACTICAL PART 1***"
      ],
      "metadata": {
        "id": "yId7ql4Dq7Ww"
      }
    },
    {
      "cell_type": "markdown",
      "source": [
        "***1) Write a python program to generate a random variable and display its value .***\n",
        "  -"
      ],
      "metadata": {
        "id": "waT6AfLtrDlC"
      }
    },
    {
      "source": [
        "import random\n",
        "\n",
        "# Generate a random floating-point number between 0 and 1\n",
        "random_variable = random.random()\n",
        "\n",
        "# Display the value of the random variable\n",
        "print(\"The random variable is:\", random_variable)"
      ],
      "cell_type": "code",
      "metadata": {
        "colab": {
          "base_uri": "https://localhost:8080/"
        },
        "id": "2I3F7Knprbkk",
        "outputId": "8b6c6bc0-de43-4926-8d29-6abbb0183dcb"
      },
      "execution_count": 1,
      "outputs": [
        {
          "output_type": "stream",
          "name": "stdout",
          "text": [
            "The random variable is: 0.15699052788479217\n"
          ]
        }
      ]
    },
    {
      "cell_type": "markdown",
      "source": [
        "***2) Generate a discrete uniform distribution using python and plot the probability mass function ?***"
      ],
      "metadata": {
        "id": "U250KHqDre2x"
      }
    },
    {
      "source": [
        "import numpy as np\n",
        "import matplotlib.pyplot as plt\n",
        "from scipy.stats import randint\n",
        "\n",
        "# Define the range of the distribution\n",
        "low = 2\n",
        "high = 5\n",
        "\n",
        "# Generate the discrete uniform distribution\n",
        "rv = randint(low, high)\n",
        "\n",
        "# Define the x-axis values\n",
        "x = np.arange(low, high)\n",
        "\n",
        "# Calculate the probability mass function (PMF)\n",
        "pmf = rv.pmf(x)\n",
        "\n",
        "# Plot the PMF\n",
        "plt.bar(x, pmf)\n",
        "plt.title('Discrete Uniform Distribution PMF')\n",
        "plt.xlabel('Values')\n",
        "plt.ylabel('Probability')\n",
        "plt.show()"
      ],
      "cell_type": "code",
      "metadata": {
        "colab": {
          "base_uri": "https://localhost:8080/",
          "height": 472
        },
        "id": "rjivhtUHrzOw",
        "outputId": "c32f87f3-7811-4bda-8329-c8aaafdf403f"
      },
      "execution_count": 3,
      "outputs": [
        {
          "output_type": "display_data",
          "data": {
            "text/plain": [
              "<Figure size 640x480 with 1 Axes>"
            ],
            "image/png": "[encoded data removed]"
          },
          "metadata": {}
        }
      ]
    },
    {
      "cell_type": "markdown",
      "source": [
        "***3) Write a python function to calculate the probability distribution function of a bernoulli distribution ?***"
      ],
      "metadata": {
        "id": "iWZ_01ygr-o9"
      }
    },
    {
      "source": [
        "import numpy as np\n",
        "\n",
        "def bernoulli_pdf(x, p):\n",
        "  \"\"\"\n",
        "  Calculates the probability distribution function (PDF) of a Bernoulli distribution.\n",
        "\n",
        "  Args:\n",
        "    x: The value of the random variable (0 or 1).\n",
        "    p: The probability of success (1).\n",
        "\n",
        "  Returns:\n",
        "    The probability of observing the given value x.\n",
        "  \"\"\"\n",
        "  if x == 1:\n",
        "    return p\n",
        "  elif x == 0:\n",
        "    return 1 - p\n",
        "  else:\n",
        "    return 0\n",
        "\n",
        "# Example usage:\n",
        "p = 0.6  # Probability of success\n",
        "x = 1    # Value of the random variable\n",
        "\n",
        "probability = bernoulli_pdf(x, p)\n",
        "print(f\"The probability of observing x = {x} is: {probability}\")"
      ],
      "cell_type": "code",
      "metadata": {
        "colab": {
          "base_uri": "https://localhost:8080/"
        },
        "id": "kD4Y71WOsTUx",
        "outputId": "861f1231-c926-44fc-8037-fb674708c971"
      },
      "execution_count": 4,
      "outputs": [
        {
          "output_type": "stream",
          "name": "stdout",
          "text": [
            "The probability of observing x = 1 is: 0.6\n"
          ]
        }
      ]
    },
    {
      "cell_type": "markdown",
      "source": [
        "***4) Write a python script to simulate a binomial distribution with  n=10 and p = 0.5 the plot its histogram ?***"
      ],
      "metadata": {
        "id": "wFmu1ZyHsX1S"
      }
    },
    {
      "source": [
        "import numpy as np\n",
        "import matplotlib.pyplot as plt\n",
        "\n",
        "# Parameters of the binomial distribution\n",
        "n = 10  # Number of trials\n",
        "p = 0.5  # Probability of success\n",
        "\n",
        "# Generate random samples from the binomial distribution\n",
        "samples = np.random.binomial(n, p, size=10000)\n",
        "\n",
        "# Plot the histogram\n",
        "plt.hist(samples, bins=30, density=True, edgecolor='black')\n",
        "plt.title('Binomial Distribution (n=10, p=0.5)')\n",
        "plt.xlabel('Number of Successes')\n",
        "plt.ylabel('Probability')\n",
        "plt.show()"
      ],
      "cell_type": "code",
      "metadata": {
        "colab": {
          "base_uri": "https://localhost:8080/",
          "height": 472
        },
        "id": "1o_9QuzWsr3s",
        "outputId": "0bebb637-e063-4ea0-b05a-e0fa41d42ba0"
      },
      "execution_count": 8,
      "outputs": [
        {
          "output_type": "display_data",
          "data": {
            "text/plain": [
              "<Figure size 640x480 with 1 Axes>"
            ],
            "image/png": "[encoded data removed]"
          },
          "metadata": {}
        }
      ]
    },
    {
      "cell_type": "markdown",
      "source": [
        "***5) Create a poisson distribution and visualize it using python ?***"
      ],
      "metadata": {
        "id": "dUxgS92ys7U0"
      }
    },
    {
      "source": [
        "import numpy as np\n",
        "import matplotlib.pyplot as plt\n",
        "from scipy.stats import poisson\n",
        "\n",
        "# Define the parameters of the Poisson distribution\n",
        "mu = 3  # Average rate of events (lambda)\n",
        "\n",
        "# Generate x-values for the distribution\n",
        "x = np.arange(0, 15)  # Values from 0 to 14 (adjust as needed)\n",
        "\n",
        "# Calculate the probability mass function (PMF)\n",
        "pmf = poisson.pmf(x, mu)\n",
        "\n",
        "# Visualize the Poisson distribution\n",
        "plt.bar(x, pmf)  # Create a bar plot of the PMF\n",
        "plt.title('Poisson Distribution (mu=3)')  # Add a title\n",
        "plt.xlabel('Number of Events')  # Label the x-axis\n",
        "plt.ylabel('Probability')  # Label the y-axis\n",
        "plt.show()  # Display the plot"
      ],
      "cell_type": "code",
      "metadata": {
        "colab": {
          "base_uri": "https://localhost:8080/",
          "height": 472
        },
        "id": "JvPDvEMjtMnZ",
        "outputId": "9ffd8e8d-f539-487f-8e32-65e0b79e1c9f"
      },
      "execution_count": 9,
      "outputs": [
        {
          "output_type": "display_data",
          "data": {
            "text/plain": [
              "<Figure size 640x480 with 1 Axes>"
            ],
            "image/png": "[encoded data removed]"
          },
          "metadata": {}
        }
      ]
    },
    {
      "cell_type": "markdown",
      "source": [
        "***6) Write a python program to calculate and plot the cumulative distribution function of a discrete uniform distribution ?***"
      ],
      "metadata": {
        "id": "B6rAsle_tO2q"
      }
    },
    {
      "source": [
        "import numpy as np\n",
        "import matplotlib.pyplot as plt\n",
        "\n",
        "def discrete_uniform_cdf(x, low, high):\n",
        "  \"\"\"\n",
        "  Calculates the cumulative distribution function (CDF) of a discrete uniform distribution.\n",
        "\n",
        "  Args:\n",
        "    x: The value at which to evaluate the CDF.\n",
        "    low: The lower bound of the distribution.\n",
        "    high: The upper bound of the distribution.\n",
        "\n",
        "  Returns:\n",
        "    The CDF value at x.\n",
        "  \"\"\"\n",
        "  if x < low:\n",
        "    return 0\n",
        "  elif x >= high:\n",
        "    return 1\n",
        "  else:\n",
        "    return (x - low + 1) / (high - low + 1)\n",
        "\n",
        "# Define the range of the distribution\n",
        "low = 1\n",
        "high = 6\n",
        "\n",
        "# Generate x-values for the plot\n",
        "x_values = np.arange(low - 1, high + 2)  # Include values outside the range for visualization\n",
        "\n",
        "# Calculate CDF values for each x-value\n",
        "cdf_values = [discrete_uniform_cdf(x, low, high) for x in x_values]\n",
        "\n",
        "# Plot the CDF\n",
        "plt.step(x_values, cdf_values, where='post')  # Use step plot for discrete distribution\n",
        "plt.title('Cumulative Distribution Function (CDF) of Discrete Uniform Distribution')\n",
        "plt.xlabel('Values')\n",
        "plt.ylabel('CDF')\n",
        "plt.grid(True)  # Add a grid for better visualization\n",
        "plt.show()"
      ],
      "cell_type": "code",
      "metadata": {
        "colab": {
          "base_uri": "https://localhost:8080/",
          "height": 472
        },
        "id": "vAdmguEVtyNh",
        "outputId": "fdfc3d9d-ed3f-4822-a658-0e9e6d3b8ebe"
      },
      "execution_count": 11,
      "outputs": [
        {
          "output_type": "display_data",
          "data": {
            "text/plain": [
              "<Figure size 640x480 with 1 Axes>"
            ],
            "image/png": "[encoded data removed]"
          },
          "metadata": {}
        }
      ]
    },
    {
      "cell_type": "markdown",
      "source": [
        "***7) Generate a continous uniform distribution using numpy and visualize it ?***"
      ],
      "metadata": {
        "id": "NLKExZDnt0lG"
      }
    },
    {
      "source": [
        "import numpy as np\n",
        "import matplotlib.pyplot as plt"
      ],
      "cell_type": "code",
      "metadata": {
        "id": "4XgCQNXUuGp6"
      },
      "execution_count": 12,
      "outputs": []
    },
    {
      "source": [
        "# Define the range of the distribution\n",
        "low = 0  # Lower bound\n",
        "high = 1  # Upper bound\n",
        "\n",
        "# Generate random samples from the uniform distribution\n",
        "samples = np.random.uniform(low, high, size=10000)  # Generate 10000 samples"
      ],
      "cell_type": "code",
      "metadata": {
        "id": "o2dXDPv-uHvc"
      },
      "execution_count": 13,
      "outputs": []
    },
    {
      "source": [
        "# Plot the histogram\n",
        "plt.hist(samples, bins=30, density=True, edgecolor='black')  # Create histogram\n",
        "plt.title('Continuous Uniform Distribution')  # Add a title\n",
        "plt.xlabel('Values')  # Label the x-axis\n",
        "plt.ylabel('Probability Density')  # Label the y-axis\n",
        "plt.show()  # Display the plot"
      ],
      "cell_type": "code",
      "metadata": {
        "colab": {
          "base_uri": "https://localhost:8080/",
          "height": 472
        },
        "id": "jD8xJytcuImr",
        "outputId": "3b323101-a0a2-4498-ebf4-1043b708fe8a"
      },
      "execution_count": 14,
      "outputs": [
        {
          "output_type": "display_data",
          "data": {
            "text/plain": [
              "<Figure size 640x480 with 1 Axes>"
            ],
            "image/png": "[encoded data removed]"
          },
          "metadata": {}
        }
      ]
    },
    {
      "cell_type": "markdown",
      "source": [
        "***8) Simulate data from a normal distribution and plot its histogram ?***"
      ],
      "metadata": {
        "id": "VgtUK4O5uMdS"
      }
    },
    {
      "source": [
        "import numpy as np\n",
        "import matplotlib.pyplot as plt\n",
        "\n",
        "# Parameters of the normal distribution\n",
        "mu = 0  # Mean\n",
        "sigma = 1  # Standard deviation\n",
        "sample_size = 10000  # Number of data points to generate\n",
        "\n",
        "# Generate random samples from the normal distribution\n",
        "samples = np.random.normal(mu, sigma, sample_size)\n",
        "\n",
        "# Plot the histogram\n",
        "plt.hist(samples, bins=50, density=True, edgecolor='black')\n",
        "plt.title('Normal Distribution (mu=0, sigma=1)')\n",
        "plt.xlabel('Values')\n",
        "plt.ylabel('Probability Density')\n",
        "plt.show()"
      ],
      "cell_type": "code",
      "metadata": {
        "colab": {
          "base_uri": "https://localhost:8080/",
          "height": 472
        },
        "id": "a3Lq1Ci8ubGD",
        "outputId": "a618cb3f-9e66-4425-dd89-a6a30c017255"
      },
      "execution_count": 15,
      "outputs": [
        {
          "output_type": "display_data",
          "data": {
            "text/plain": [
              "<Figure size 640x480 with 1 Axes>"
            ],
            "image/png": "[encoded data removed]"
          },
          "metadata": {}
        }
      ]
    },
    {
      "cell_type": "markdown",
      "source": [
        "***9) Write a python function to calculate Z-score from a dataset and plot them ?***"
      ],
      "metadata": {
        "id": "UPcpyO9gudLt"
      }
    },
    {
      "source": [
        "import numpy as np\n",
        "import pandas as pd\n",
        "import seaborn as sns\n",
        "import matplotlib.pyplot as plt\n",
        "\n",
        "def calculate_and_plot_zscores(data, column_name):\n",
        "    \"\"\"\n",
        "    Calculates Z-scores for a specified column in a dataset and plots them.\n",
        "\n",
        "    Args:\n",
        "        data: A pandas DataFrame containing the dataset.\n",
        "        column_name: The name of the column for which to calculate Z-scores.\n",
        "    \"\"\"\n",
        "\n",
        "    # Calculate Z-scores\n",
        "    data['Z-score'] = (data[column_name] - data[column_name].mean()) / data[column_name].std()\n",
        "\n",
        "    # Plot the Z-scores\n",
        "    sns.histplot(data['Z-score'], kde=True)\n",
        "    plt.title(f'Distribution of Z-scores for {column_name}')\n",
        "    plt.xlabel('Z-score')\n",
        "    plt.ylabel('Frequency')\n",
        "    plt.show()\n",
        "\n",
        "# Example usage:\n",
        "# Assuming your dataset is in a DataFrame called 'df' and the column of interest is 'values'\n",
        "# calculate_and_plot_zscores(df, 'values')"
      ],
      "cell_type": "code",
      "metadata": {
        "id": "wQgdzA4ZuwDZ"
      },
      "execution_count": 17,
      "outputs": []
    },
    {
      "cell_type": "markdown",
      "source": [
        "***10) Implement the central limit theorem using python for a non normal distribution ?***"
      ],
      "metadata": {
        "id": "KNxvgFPwu2Uo"
      }
    },
    {
      "source": [
        "import numpy as np\n",
        "import matplotlib.pyplot as plt\n",
        "import seaborn as sns  # For a nicer histogram\n",
        "\n",
        "# 1. Choose a Non-Normal Distribution\n",
        "#    Here, we'll use an exponential distribution (you can change it)\n",
        "population = np.random.exponential(scale=2, size=10000)\n",
        "\n",
        "# 2. Set Sample Size and Number of Samples\n",
        "sample_size = 30\n",
        "num_samples = 1000\n",
        "\n",
        "# 3. Generate Sample Means\n",
        "sample_means = []\n",
        "for _ in range(num_samples):\n",
        "    sample = np.random.choice(population, size=sample_size, replace=False)\n",
        "    sample_means.append(np.mean(sample))\n",
        "\n",
        "# 4. Visualize with Histogram and KDE\n",
        "sns.histplot(sample_means, kde=True)  # Use seaborn for a better plot\n",
        "plt.title(f'Distribution of Sample Means (n={sample_size})')\n",
        "plt.xlabel('Sample Mean')\n",
        "plt.ylabel('Frequency')\n",
        "plt.show()"
      ],
      "cell_type": "code",
      "metadata": {
        "colab": {
          "base_uri": "https://localhost:8080/",
          "height": 472
        },
        "id": "2IvH-Gt6vQbE",
        "outputId": "4c5a93d2-4e51-431f-9b6f-e43c5b5ec6ee"
      },
      "execution_count": 18,
      "outputs": [
        {
          "output_type": "display_data",
          "data": {
            "text/plain": [
              "<Figure size 640x480 with 1 Axes>"
            ],
            "image/png": "[encoded data removed]"
          },
          "metadata": {}
        }
      ]
    },
    {
      "cell_type": "markdown",
      "source": [
        "*11) Simulate multiple samples from a normal distribution and verify the Central Limit Theorem*"
      ],
      "metadata": {
        "id": "pyBOTUuQvUZu"
      }
    },
    {
      "source": [
        "import numpy as np\n",
        "import matplotlib.pyplot as plt\n",
        "import seaborn as sns  # For better visualization (optional)"
      ],
      "cell_type": "code",
      "metadata": {
        "id": "Nqdby5CfwADo"
      },
      "execution_count": 19,
      "outputs": []
    },
    {
      "source": [
        "population_mean = 50  # Mean of the population\n",
        "population_std = 10   # Standard deviation of the population\n",
        "sample_size = 30      # Size of each sample\n",
        "num_samples = 1000   # Number of samples to simulate"
      ],
      "cell_type": "code",
      "metadata": {
        "id": "DwwnJG_RwBJL"
      },
      "execution_count": 20,
      "outputs": []
    },
    {
      "source": [
        "sample_means = []\n",
        "for i in range(num_samples):\n",
        "    sample = np.random.normal(population_mean, population_std, sample_size)\n",
        "    sample_means.append(np.mean(sample))"
      ],
      "cell_type": "code",
      "metadata": {
        "id": "hVM_WVqRwB40"
      },
      "execution_count": 21,
      "outputs": []
    },
    {
      "source": [
        "sns.histplot(sample_means, kde=True)  # Using Seaborn for a nicer plot\n",
        "plt.title('Distribution of Sample Means (CLT Verification)')\n",
        "plt.xlabel('Sample Mean')\n",
        "plt.ylabel('Frequency')\n",
        "plt.show()"
      ],
      "cell_type": "code",
      "metadata": {
        "colab": {
          "base_uri": "https://localhost:8080/",
          "height": 472
        },
        "id": "zcWKJEoMwCiw",
        "outputId": "ff332dbc-7404-4e0e-9860-b5cab9b2d1d6"
      },
      "execution_count": 22,
      "outputs": [
        {
          "output_type": "display_data",
          "data": {
            "text/plain": [
              "<Figure size 640x480 with 1 Axes>"
            ],
            "image/png": "[encoded data removed]"
          },
          "metadata": {}
        }
      ]
    },
    {
      "cell_type": "markdown",
      "source": [
        "***12) Write a Python function to calculate and plot the standard normal distribution (mean = 0, std = 1).***"
      ],
      "metadata": {
        "id": "rECrZh1jwGEE"
      }
    },
    {
      "source": [
        "import numpy as np\n",
        "import matplotlib.pyplot as plt\n",
        "from scipy.stats import norm\n",
        "\n",
        "def plot_standard_normal_distribution():\n",
        "  \"\"\"Calculates and plots the standard normal distribution.\"\"\"\n",
        "\n",
        "  # Generate x-values for the distribution\n",
        "  x = np.linspace(-4, 4, 100)  # Values from -4 to 4\n",
        "\n",
        "  # Calculate the probability density function (PDF)\n",
        "  pdf = norm.pdf(x, loc=0, scale=1)  # Standard normal: mean=0, std=1\n",
        "\n",
        "  # Plot the distribution\n",
        "  plt.plot(x, pdf)\n",
        "  plt.title('Standard Normal Distribution')\n",
        "  plt.xlabel('x')\n",
        "  plt.ylabel('Probability Density')\n",
        "  plt.show()\n",
        "\n",
        "# Call the function to plot the distribution\n",
        "plot_standard_normal_distribution()"
      ],
      "cell_type": "code",
      "metadata": {
        "colab": {
          "base_uri": "https://localhost:8080/",
          "height": 472
        },
        "id": "nCbarWR3wYNk",
        "outputId": "ee544b34-4878-4f03-904f-7d2063c8dabd"
      },
      "execution_count": 23,
      "outputs": [
        {
          "output_type": "display_data",
          "data": {
            "text/plain": [
              "<Figure size 640x480 with 1 Axes>"
            ],
            "image/png": "[encoded data removed]"
          },
          "metadata": {}
        }
      ]
    },
    {
      "cell_type": "markdown",
      "source": [
        "***13) Generate random variables and calculate their corresponding probabilities using the binomial distributionE***"
      ],
      "metadata": {
        "id": "i4aViRBmwa-q"
      }
    },
    {
      "source": [
        "import numpy as np\n",
        "from scipy.stats import binom\n",
        "\n",
        "# Set the parameters of the binomial distribution\n",
        "n = 10  # Number of trials\n",
        "p = 0.5  # Probability of success\n",
        "\n",
        "# Generate 5 random variables from the binomial distribution\n",
        "random_variables = np.random.binomial(n, p, size=5)\n",
        "\n",
        "# Calculate the probabilities for each random variable\n",
        "probabilities = binom.pmf(random_variables, n, p)\n",
        "\n",
        "# Print the results\n",
        "for rv, prob in zip(random_variables, probabilities):\n",
        "    print(f\"Random Variable: {rv}, Probability: {prob:.4f}\")"
      ],
      "cell_type": "code",
      "metadata": {
        "colab": {
          "base_uri": "https://localhost:8080/"
        },
        "id": "6aZcXiwYwqdo",
        "outputId": "4fd0fd72-4d3e-4e6e-e5f7-63a9468e12e1"
      },
      "execution_count": 24,
      "outputs": [
        {
          "output_type": "stream",
          "name": "stdout",
          "text": [
            "Random Variable: 4, Probability: 0.2051\n",
            "Random Variable: 4, Probability: 0.2051\n",
            "Random Variable: 4, Probability: 0.2051\n",
            "Random Variable: 5, Probability: 0.2461\n",
            "Random Variable: 4, Probability: 0.2051\n"
          ]
        }
      ]
    },
    {
      "cell_type": "markdown",
      "source": [
        "***14) Write a Python program to calculate the Z-score for a given data point and compare it to a standard normal distribution ?***"
      ],
      "metadata": {
        "id": "E4doawKfwxM-"
      }
    },
    {
      "source": [
        "import numpy as np\n",
        "import scipy.stats as stats\n",
        "\n",
        "def calculate_z_score(data_point, data):\n",
        "  \"\"\"Calculates the Z-score for a given data point.\n",
        "\n",
        "  Args:\n",
        "    data_point: The data point for which to calculate the Z-score.\n",
        "    data: The dataset to which the data point belongs.\n",
        "\n",
        "  Returns:\n",
        "    The Z-score for the data point.\n",
        "  \"\"\"\n",
        "  mean = np.mean(data)\n",
        "  std_dev = np.std(data)\n",
        "  z_score = (data_point - mean) / std_dev\n",
        "  return z_score\n",
        "\n",
        "def compare_to_standard_normal(z_score):\n",
        "  \"\"\"Compares the Z-score to a standard normal distribution.\n",
        "\n",
        "  Args:\n",
        "    z_score: The Z-score to compare.\n",
        "\n",
        "  Returns:\n",
        "    The probability of observing a value less than or equal to the Z-score\n",
        "    in a standard normal distribution.\n",
        "  \"\"\"\n",
        "  p_value = stats.norm.cdf(z_score)\n",
        "  return p_value\n",
        "\n",
        "# Example usage:\n",
        "data = [1, 2, 3, 4, 5]\n",
        "data_point = 3\n",
        "\n",
        "z_score = calculate_z_score(data_point, data)\n",
        "p_value = compare_to_standard_normal(z_score)\n",
        "\n",
        "print(\"Z-score:\", z_score)\n",
        "print(\"Probability:\", p_value)"
      ],
      "cell_type": "code",
      "metadata": {
        "colab": {
          "base_uri": "https://localhost:8080/"
        },
        "id": "6Tj-EfCqxDeE",
        "outputId": "3b4ed6c6-dddb-439b-f260-29b444f17db5"
      },
      "execution_count": 26,
      "outputs": [
        {
          "output_type": "stream",
          "name": "stdout",
          "text": [
            "Z-score: 0.0\n",
            "Probability: 0.5\n"
          ]
        }
      ]
    },
    {
      "cell_type": "markdown",
      "source": [
        "***15) Implement hypothesis testing using Z-statistics for a sample datasetE***"
      ],
      "metadata": {
        "id": "9bWwuOp_xFxG"
      }
    },
    {
      "source": [
        "import numpy as np\n",
        "import scipy.stats as stats"
      ],
      "cell_type": "code",
      "metadata": {
        "id": "cjvrgsS2xPXO"
      },
      "execution_count": 27,
      "outputs": []
    },
    {
      "source": [
        "# Sample data\n",
        "sample_data = [4, 5, 6, 7, 8, 9, 10, 11, 12, 13]\n",
        "\n",
        "# Population parameters (hypothesized values)\n",
        "population_mean = 8\n",
        "population_std = 2"
      ],
      "cell_type": "code",
      "metadata": {
        "id": "Yv3qxt-CxQTH"
      },
      "execution_count": 28,
      "outputs": []
    },
    {
      "source": [
        "# Null hypothesis: The sample mean is equal to the population mean.\n",
        "# Alternative hypothesis: The sample mean is not equal to the population mean."
      ],
      "cell_type": "code",
      "metadata": {
        "id": "ifT94n4ixRTK"
      },
      "execution_count": 29,
      "outputs": []
    },
    {
      "source": [
        "alpha = 0.05  # Significance level (5%)"
      ],
      "cell_type": "code",
      "metadata": {
        "id": "mnP1fgWTxR72"
      },
      "execution_count": 30,
      "outputs": []
    },
    {
      "source": [
        "sample_mean = np.mean(sample_data)\n",
        "sample_size = len(sample_data)\n",
        "z_statistic = (sample_mean - population_mean) / (population_std / np.sqrt(sample_size))"
      ],
      "cell_type": "code",
      "metadata": {
        "id": "9naR3U6KxS4B"
      },
      "execution_count": 31,
      "outputs": []
    },
    {
      "source": [
        "critical_value = stats.norm.ppf(1 - alpha / 2)  # Two-tailed test"
      ],
      "cell_type": "code",
      "metadata": {
        "id": "7Ct01sLLxTgo"
      },
      "execution_count": 32,
      "outputs": []
    },
    {
      "source": [
        "if abs(z_statistic) > critical_value:\n",
        "  print(\"Reject the null hypothesis.\")\n",
        "else:\n",
        "  print(\"Fail to reject the null hypothesis.\")"
      ],
      "cell_type": "code",
      "metadata": {
        "colab": {
          "base_uri": "https://localhost:8080/"
        },
        "id": "_TJu2TDixT8f",
        "outputId": "da27af4d-db29-413e-a7ac-04b440b84227"
      },
      "execution_count": 33,
      "outputs": [
        {
          "output_type": "stream",
          "name": "stdout",
          "text": [
            "Fail to reject the null hypothesis.\n"
          ]
        }
      ]
    },
    {
      "source": [
        "p_value = 2 * (1 - stats.norm.cdf(abs(z_statistic)))  # Two-tailed test\n",
        "print(\"P-value:\", p_value)"
      ],
      "cell_type": "code",
      "metadata": {
        "colab": {
          "base_uri": "https://localhost:8080/"
        },
        "id": "Lv2gSKCDxUsY",
        "outputId": "8a2626fa-484e-441d-ab0a-9a69234df943"
      },
      "execution_count": 34,
      "outputs": [
        {
          "output_type": "stream",
          "name": "stdout",
          "text": [
            "P-value: 0.42919530044034926\n"
          ]
        }
      ]
    },
    {
      "source": [
        "import numpy as np\n",
        "import scipy.stats as stats\n",
        "\n",
        "sample_data = [4, 5, 6, 7, 8, 9, 10, 11, 12, 13]\n",
        "population_mean = 8\n",
        "population_std = 2\n",
        "alpha = 0.05\n",
        "\n",
        "sample_mean = np.mean(sample_data)\n",
        "sample_size = len(sample_data)\n",
        "z_statistic = (sample_mean - population_mean) / (population_std / np.sqrt(sample_size))\n",
        "\n",
        "critical_value = stats.norm.ppf(1 - alpha / 2)\n",
        "\n",
        "if abs(z_statistic) > critical_value:\n",
        "  print(\"Reject the null hypothesis.\")\n",
        "else:\n",
        "  print(\"Fail to reject the null hypothesis.\")\n",
        "\n",
        "p_value = 2 * (1 - stats.norm.cdf(abs(z_statistic)))\n",
        "print(\"P-value:\", p_value)"
      ],
      "cell_type": "code",
      "metadata": {
        "colab": {
          "base_uri": "https://localhost:8080/"
        },
        "id": "bwU9cNeWxWRr",
        "outputId": "c54c3d45-b604-4222-b48a-5a0da5a021a9"
      },
      "execution_count": 35,
      "outputs": [
        {
          "output_type": "stream",
          "name": "stdout",
          "text": [
            "Fail to reject the null hypothesis.\n",
            "P-value: 0.42919530044034926\n"
          ]
        }
      ]
    },
    {
      "cell_type": "markdown",
      "source": [
        "***16) Create a confidence interval for a dataset using Python and interpret the result .***"
      ],
      "metadata": {
        "id": "kD3Z7vnxxgx3"
      }
    },
    {
      "source": [
        "data = [10, 12, 15, 13, 11, 14, 16, 12, 13, 15]"
      ],
      "cell_type": "code",
      "metadata": {
        "id": "SwVmaezRxucL"
      },
      "execution_count": 38,
      "outputs": []
    },
    {
      "source": [
        "sample_mean = np.mean(data)\n",
        "sample_std = np.std(data, ddof=1)  # ddof=1 for sample standard deviation"
      ],
      "cell_type": "code",
      "metadata": {
        "id": "r0kqBxGLxvuK"
      },
      "execution_count": 37,
      "outputs": []
    },
    {
      "source": [
        "import numpy as np\n",
        "import scipy.stats as stats"
      ],
      "cell_type": "code",
      "metadata": {
        "id": "v9P70i-mxxiE"
      },
      "execution_count": 36,
      "outputs": []
    },
    {
      "source": [
        "confidence_level = 0.95"
      ],
      "cell_type": "code",
      "metadata": {
        "id": "yREL0REhxzP8"
      },
      "execution_count": 39,
      "outputs": []
    },
    {
      "source": [
        "margin_of_error = stats.t.ppf((1 + confidence_level) / 2, df=len(data) - 1) * sample_std / np.sqrt(len(data))"
      ],
      "cell_type": "code",
      "metadata": {
        "id": "PW6lMMD_xz-l"
      },
      "execution_count": 40,
      "outputs": []
    },
    {
      "source": [
        "confidence_interval = (sample_mean - margin_of_error, sample_mean + margin_of_error)"
      ],
      "cell_type": "code",
      "metadata": {
        "id": "2E0Udjo1x0vR"
      },
      "execution_count": 41,
      "outputs": []
    },
    {
      "source": [
        "print(\"Sample Mean:\", sample_mean)\n",
        "print(\"Confidence Interval:\", confidence_interval)"
      ],
      "cell_type": "code",
      "metadata": {
        "colab": {
          "base_uri": "https://localhost:8080/"
        },
        "id": "ALigc8Szx1PS",
        "outputId": "b5a35bc9-2cb4-45a5-ee39-1f640d410043"
      },
      "execution_count": 42,
      "outputs": [
        {
          "output_type": "stream",
          "name": "stdout",
          "text": [
            "Sample Mean: 3.0\n",
            "Confidence Interval: (np.float64(1.8689214185729504), np.float64(4.131078581427049))\n"
          ]
        }
      ]
    },
    {
      "cell_type": "markdown",
      "source": [
        "***17) Generate data from a normal distribution, then calculate and interpret the confidence interval for its meanE***"
      ],
      "metadata": {
        "id": "P9fev1HAx8AZ"
      }
    },
    {
      "source": [
        "import numpy as np\n",
        "\n",
        "# Set parameters for the normal distribution\n",
        "mu = 50  # Mean\n",
        "sigma = 10  # Standard deviation\n",
        "sample_size = 100\n",
        "\n",
        "# Generate random data\n",
        "data = np.random.normal(mu, sigma, sample_size)"
      ],
      "cell_type": "code",
      "metadata": {
        "id": "7YaSjCUUyGRd"
      },
      "execution_count": 43,
      "outputs": []
    },
    {
      "source": [
        "import scipy.stats as stats\n",
        "\n",
        "# Calculate the sample mean and standard error\n",
        "sample_mean = np.mean(data)\n",
        "standard_error = stats.sem(data)  # Standard error of the mean\n",
        "\n",
        "# Set the confidence level (e.g., 95%)\n",
        "confidence_level = 0.95\n",
        "\n",
        "# Calculate the margin of error\n",
        "margin_of_error = standard_error * stats.t.ppf((1 + confidence_level) / 2, sample_size - 1)\n",
        "\n",
        "# Calculate the confidence interval\n",
        "confidence_interval = (sample_mean - margin_of_error, sample_mean + margin_of_error)\n",
        "\n",
        "print(\"Confidence Interval:\", confidence_interval)"
      ],
      "cell_type": "code",
      "metadata": {
        "colab": {
          "base_uri": "https://localhost:8080/"
        },
        "id": "ZQ_oasq7yHhO",
        "outputId": "4c7e3b5b-9803-49ad-c4b4-c1064f7ace9e"
      },
      "execution_count": 44,
      "outputs": [
        {
          "output_type": "stream",
          "name": "stdout",
          "text": [
            "Confidence Interval: (np.float64(48.673269880468006), np.float64(52.30625187865588))\n"
          ]
        }
      ]
    },
    {
      "cell_type": "markdown",
      "source": [
        "***18) Write a Python script to calculate and visualize the probability density function (PDF) of a normal distribution***"
      ],
      "metadata": {
        "id": "h2e7gARtyKh2"
      }
    },
    {
      "source": [
        "import numpy as np\n",
        "import matplotlib.pyplot as plt\n",
        "from scipy.stats import norm\n",
        "\n",
        "# Parameters of the normal distribution\n",
        "mu = 0  # Mean\n",
        "sigma = 1  # Standard deviation\n",
        "\n",
        "# Generate x-values for the distribution\n",
        "x = np.linspace(mu - 3*sigma, mu + 3*sigma, 100)  # Values within 3 standard deviations of the mean\n",
        "\n",
        "# Calculate the probability density function (PDF)\n",
        "pdf = norm.pdf(x, mu, sigma)\n",
        "\n",
        "# Visualize the normal distribution\n",
        "plt.plot(x, pdf)  # Create a plot of the PDF\n",
        "plt.title('Normal Distribution PDF (mu=0, sigma=1)')  # Add a title\n",
        "plt.xlabel('x')  # Label the x-axis\n",
        "plt.ylabel('Probability Density')  # Label the y-axis\n",
        "plt.show()  # Display the plot"
      ],
      "cell_type": "code",
      "metadata": {
        "colab": {
          "base_uri": "https://localhost:8080/",
          "height": 472
        },
        "id": "UjrNTu8Wyd5B",
        "outputId": "251fb1ca-f6a8-43df-9825-b3ebeb86e19d"
      },
      "execution_count": 45,
      "outputs": [
        {
          "output_type": "display_data",
          "data": {
            "text/plain": [
              "<Figure size 640x480 with 1 Axes>"
            ],
            "image/png": "[encoded data removed]"
          },
          "metadata": {}
        }
      ]
    },
    {
      "cell_type": "markdown",
      "source": [
        "***19) Use Python to calculate and interpret the cumulative distribution function (CDF) of a Poisson distribution***"
      ],
      "metadata": {
        "id": "P3zWBi0-ymXT"
      }
    },
    {
      "source": [
        "import numpy as np\n",
        "from scipy.stats import poisson\n",
        "import matplotlib.pyplot as plt"
      ],
      "cell_type": "code",
      "metadata": {
        "id": "eAuCbTCOy1iq"
      },
      "execution_count": 46,
      "outputs": []
    },
    {
      "source": [
        "# Define the parameters of the Poisson distribution\n",
        "mu = 3  # Average rate of events (lambda)"
      ],
      "cell_type": "code",
      "metadata": {
        "id": "9UEBBPGZy2Gm"
      },
      "execution_count": 47,
      "outputs": []
    },
    {
      "source": [
        "# Generate x-values for the distribution\n",
        "x = np.arange(0, 15)  # Values from 0 to 14 (adjust as needed)\n",
        "\n",
        "# Calculate the CDF using the 'cdf' method of the poisson object\n",
        "cdf = poisson.cdf(x, mu)"
      ],
      "cell_type": "code",
      "metadata": {
        "id": "JZme-eIiy2vx"
      },
      "execution_count": 48,
      "outputs": []
    },
    {
      "source": [
        "# Visualize the CDF using a step plot\n",
        "plt.step(x, cdf, where='post')  # 'where' argument ensures correct step positions\n",
        "plt.title('Poisson Distribution CDF (mu=3)')  # Add a title\n",
        "plt.xlabel('Number of Events')  # Label the x-axis\n",
        "plt.ylabel('Cumulative Probability')  # Label the y-axis\n",
        "plt.show()  # Display the plot"
      ],
      "cell_type": "code",
      "metadata": {
        "colab": {
          "base_uri": "https://localhost:8080/",
          "height": 472
        },
        "id": "UYEIggbiy4Yb",
        "outputId": "df4e2771-54c0-416b-85d9-0a33a9500989"
      },
      "execution_count": 49,
      "outputs": [
        {
          "output_type": "display_data",
          "data": {
            "text/plain": [
              "<Figure size 640x480 with 1 Axes>"
            ],
            "image/png": "[encoded data removed]"
          },
          "metadata": {}
        }
      ]
    },
    {
      "cell_type": "markdown",
      "source": [
        "***21) Write a Python program to compare the standard deviations of two datasets and visualize the difference.***\n"
      ],
      "metadata": {
        "id": "tlfm8miBy7z9"
      }
    },
    {
      "source": [
        "import numpy as np\n",
        "import matplotlib.pyplot as plt\n",
        "\n",
        "# Generate two datasets\n",
        "dataset1 = np.random.normal(loc=5, scale=2, size=100)  # Mean=5, SD=2\n",
        "dataset2 = np.random.normal(loc=8, scale=3, size=100)  # Mean=8, SD=3\n",
        "\n",
        "# Calculate standard deviations\n",
        "std_dev1 = np.std(dataset1)\n",
        "std_dev2 = np.std(dataset2)\n",
        "\n",
        "# Visualize the difference\n",
        "plt.bar(['Dataset 1', 'Dataset 2'], [std_dev1, std_dev2], color=['blue', 'orange'])\n",
        "plt.title('Comparison of Standard Deviations')\n",
        "plt.ylabel('Standard Deviation')\n",
        "plt.show()\n",
        "\n",
        "# Print the standard deviations\n",
        "print(f\"Standard Deviation of Dataset 1: {std_dev1}\")\n",
        "print(f\"Standard Deviation of Dataset 2: {std_dev2}\")"
      ],
      "cell_type": "code",
      "metadata": {
        "colab": {
          "base_uri": "https://localhost:8080/",
          "height": 487
        },
        "id": "JENQwjSrz10b",
        "outputId": "306faed7-2af7-4061-c31a-3b69e2792f8f"
      },
      "execution_count": 50,
      "outputs": [
        {
          "output_type": "display_data",
          "data": {
            "text/plain": [
              "<Figure size 640x480 with 1 Axes>"
            ],
            "image/png": "[encoded data removed]"
          },
          "metadata": {}
        },
        {
          "output_type": "stream",
          "name": "stdout",
          "text": [
            "Standard Deviation of Dataset 1: 2.123338575486489\n",
            "Standard Deviation of Dataset 2: 2.850837973861328\n"
          ]
        }
      ]
    },
    {
      "cell_type": "markdown",
      "source": [
        "***22) Calculate the range and interquartile range (IQR) of a dataset generated from a normal distribution.***"
      ],
      "metadata": {
        "id": "vRgTmQdez31n"
      }
    },
    {
      "source": [
        "import numpy as np\n",
        "\n",
        "# Set the parameters of the normal distribution\n",
        "mu = 0  # Mean\n",
        "sigma = 1  # Standard deviation\n",
        "n = 100  # Number of data points\n",
        "\n",
        "# Generate the dataset\n",
        "data = np.random.normal(mu, sigma, n)"
      ],
      "cell_type": "code",
      "metadata": {
        "id": "EC49jLNQ0DFd"
      },
      "execution_count": 51,
      "outputs": []
    },
    {
      "source": [
        "# Calculate the range\n",
        "data_range = np.max(data) - np.min(data)\n",
        "\n",
        "print(\"Range:\", data_range)"
      ],
      "cell_type": "code",
      "metadata": {
        "colab": {
          "base_uri": "https://localhost:8080/"
        },
        "id": "th-iMIsS0Dxw",
        "outputId": "b09d4d2b-1b1d-4d06-ea8b-212a8c50dc18"
      },
      "execution_count": 52,
      "outputs": [
        {
          "output_type": "stream",
          "name": "stdout",
          "text": [
            "Range: 3.968777788098037\n"
          ]
        }
      ]
    },
    {
      "source": [
        "# Calculate the IQR\n",
        "q1 = np.percentile(data, 25)  # 25th percentile (first quartile)\n",
        "q3 = np.percentile(data, 75)  # 75th percentile (third quartile)\n",
        "iqr = q3 - q1\n",
        "\n",
        "print(\"Interquartile Range (IQR):\", iqr)"
      ],
      "cell_type": "code",
      "metadata": {
        "colab": {
          "base_uri": "https://localhost:8080/"
        },
        "id": "Cq40TyIh0EMi",
        "outputId": "e30d547d-0a6a-4adb-ba65-669bcc9f90ce"
      },
      "execution_count": 53,
      "outputs": [
        {
          "output_type": "stream",
          "name": "stdout",
          "text": [
            "Interquartile Range (IQR): 0.9829605998557047\n"
          ]
        }
      ]
    },
    {
      "cell_type": "markdown",
      "source": [
        "***23) Implement Z-score normalization on a dataset and visualize its transformation.***\n"
      ],
      "metadata": {
        "id": "TT-vbX9U0IsB"
      }
    },
    {
      "source": [
        "import pandas as pd\n",
        "import numpy as np\n",
        "import matplotlib.pyplot as plt\n",
        "import seaborn as sns"
      ],
      "cell_type": "code",
      "metadata": {
        "id": "K03EnWvg0UVK"
      },
      "execution_count": 54,
      "outputs": []
    },
    {
      "source": [
        "# Create histograms or density plots to compare the original and normalized data\n",
        "for column in columns_to_normalize:\n",
        "    plt.figure(figsize=(10, 5))  # Adjust figure size as needed\n",
        "\n",
        "    plt.subplot(1, 2, 1)  # Create a subplot for the original data\n",
        "    sns.histplot(data[column], kde=True)  # Use seaborn for better visualization\n",
        "    plt.title(f'Original Distribution of {column}')\n",
        "\n",
        "    plt.subplot(1, 2, 2)  # Create a subplot for the normalized data\n",
        "    sns.histplot(data[column + '_zscore'], kde=True)\n",
        "    plt.title(f'Z-score Normalized Distribution of {column}')\n",
        "\n",
        "    plt.tight_layout()  # Adjust layout to prevent overlapping\n",
        "    plt.show()"
      ],
      "cell_type": "code",
      "metadata": {
        "id": "yd8Go2-q0uNR"
      },
      "execution_count": null,
      "outputs": []
    },
    {
      "cell_type": "markdown",
      "source": [
        "***24) Write a Python function to calculate the skewness and kurtosis of a dataset generated from a normal distribution.***"
      ],
      "metadata": {
        "id": "Q19VK4WK0wVs"
      }
    },
    {
      "source": [
        "import numpy as np\n",
        "from scipy.stats import skew, kurtosis\n",
        "\n",
        "def calculate_skewness_kurtosis(data):\n",
        "  \"\"\"\n",
        "  Calculates the skewness and kurtosis of a dataset.\n",
        "\n",
        "  Args:\n",
        "    data: A NumPy array or list containing the dataset.\n",
        "\n",
        "  Returns:\n",
        "    A tuple containing the skewness and kurtosis values.\n",
        "  \"\"\"\n",
        "  skewness = skew(data)\n",
        "  kurtosis_value = kurtosis(data)\n",
        "  return skewness, kurtosis_value\n",
        "\n",
        "# Example usage:\n",
        "data = np.random.normal(loc=0, scale=1, size=1000)  # Generate data from a normal distribution\n",
        "skewness, kurtosis_value = calculate_skewness_kurtosis(data)\n",
        "print(\"Skewness:\", skewness)\n",
        "print(\"Kurtosis:\", kurtosis_value)"
      ],
      "cell_type": "code",
      "metadata": {
        "colab": {
          "base_uri": "https://localhost:8080/"
        },
        "id": "Mmphddho0-Jl",
        "outputId": "b784c724-2e92-4726-ab4c-845a3c955b7d"
      },
      "execution_count": 60,
      "outputs": [
        {
          "output_type": "stream",
          "name": "stdout",
          "text": [
            "Skewness: 0.040254272900351384\n",
            "Kurtosis: -0.1662177973617287\n"
          ]
        }
      ]
    },
    {
      "cell_type": "markdown",
      "source": [
        "# ***PRACTICAL PART 2***"
      ],
      "metadata": {
        "id": "dMmhBMzQ1Bbw"
      }
    },
    {
      "cell_type": "markdown",
      "source": [
        "***1) Write a Python program to perform a Z-test for comparing a sample mean to a known population mean and interpret the results.***"
      ],
      "metadata": {
        "id": "dOvCxvDp1GWX"
      }
    },
    {
      "source": [
        "import numpy as np\n",
        "from scipy import stats\n",
        "\n",
        "def z_test_for_mean(sample_data, population_mean, population_std):\n",
        "    \"\"\"\n",
        "    Performs a Z-test for comparing a sample mean to a known population mean.\n",
        "\n",
        "    Args:\n",
        "        sample_data: A list or array of sample data.\n",
        "        population_mean: The known population mean.\n",
        "        population_std: The known population standard deviation.\n",
        "\n",
        "    Returns:\n",
        "        z_statistic: The calculated Z-statistic.\n",
        "        p_value: The p-value associated with the Z-statistic.\n",
        "    \"\"\"\n",
        "\n",
        "    sample_mean = np.mean(sample_data)\n",
        "    sample_size = len(sample_data)\n",
        "\n",
        "    z_statistic = (sample_mean - population_mean) / (population_std / np.sqrt(sample_size))\n",
        "    p_value = stats.norm.sf(abs(z_statistic)) * 2  # Two-tailed test\n",
        "\n",
        "    return z_statistic, p_value\n",
        "\n",
        "\n",
        "# Example usage\n",
        "sample_data = [10, 12, 14, 16, 18]  # Sample data\n",
        "population_mean = 15  # Known population mean\n",
        "population_std = 3  # Known population standard deviation\n",
        "\n",
        "z_statistic, p_value = z_test_for_mean(sample_data, population_mean, population_std)\n",
        "\n",
        "print(\"Z-statistic:\", z_statistic)\n",
        "print(\"P-value:\", p_value)\n",
        "\n",
        "# Interpretation of Results\n",
        "alpha = 0.05  # Significance level\n",
        "\n",
        "if p_value < alpha:\n",
        "    print(\"Reject the null hypothesis.\")\n",
        "    print(\"There is a statistically significant difference between the sample mean and the population mean.\")\n",
        "else:\n",
        "    print(\"Fail to reject the null hypothesis.\")\n",
        "    print(\"There is no statistically significant difference between the sample mean and the population mean.\")"
      ],
      "cell_type": "code",
      "metadata": {
        "colab": {
          "base_uri": "https://localhost:8080/"
        },
        "id": "trbnS0dy1Viz",
        "outputId": "ea3710aa-74a8-44e8-83fb-ee6a73526939"
      },
      "execution_count": 61,
      "outputs": [
        {
          "output_type": "stream",
          "name": "stdout",
          "text": [
            "Z-statistic: -0.7453559924999299\n",
            "P-value: 0.456056540250256\n",
            "Fail to reject the null hypothesis.\n",
            "There is no statistically significant difference between the sample mean and the population mean.\n"
          ]
        }
      ]
    },
    {
      "cell_type": "markdown",
      "source": [
        "***2) Simulate random data to perform hypothesis testing and calculate the corresponding P-value using Python.***"
      ],
      "metadata": {
        "id": "BQaVQS0Q1Xzn"
      }
    },
    {
      "source": [
        "import numpy as np\n",
        "\n",
        "# Set random seed for reproducibility\n",
        "np.random.seed(42)\n",
        "\n",
        "# Generate two random samples\n",
        "sample1 = np.random.normal(loc=10, scale=2, size=50)  # Mean 10, standard deviation 2\n",
        "sample2 = np.random.normal(loc=12, scale=2, size=50)  # Mean 12, standard deviation 2"
      ],
      "cell_type": "code",
      "metadata": {
        "id": "7ucpOFzX1mJJ"
      },
      "execution_count": 62,
      "outputs": []
    },
    {
      "source": [
        "from scipy import stats\n",
        "\n",
        "# Perform two-sample t-test\n",
        "t_statistic, p_value = stats.ttest_ind(sample1, sample2)"
      ],
      "cell_type": "code",
      "metadata": {
        "id": "p_LRomrQ1m4x"
      },
      "execution_count": 63,
      "outputs": []
    },
    {
      "source": [
        "print(\"T-statistic:\", t_statistic)\n",
        "print(\"P-value:\", p_value)"
      ],
      "cell_type": "code",
      "metadata": {
        "colab": {
          "base_uri": "https://localhost:8080/"
        },
        "id": "uyupnf551njw",
        "outputId": "20553dbb-d1f0-41d8-dafb-3c9c97589170"
      },
      "execution_count": 64,
      "outputs": [
        {
          "output_type": "stream",
          "name": "stdout",
          "text": [
            "T-statistic: -6.872731683285841\n",
            "P-value: 5.877565294167719e-10\n"
          ]
        }
      ]
    },
    {
      "cell_type": "markdown",
      "source": [
        "***3) Implement a one-sample Z-test using Python to compare the sample mean with the population mean.***"
      ],
      "metadata": {
        "id": "1PTyuexN1t84"
      }
    },
    {
      "source": [
        "import numpy as np\n",
        "from scipy import stats"
      ],
      "cell_type": "code",
      "metadata": {
        "id": "JCqwQnAi15m0"
      },
      "execution_count": 66,
      "outputs": []
    },
    {
      "source": [
        "sample_data = [4, 5, 6, 7, 8, 9, 10]  # Your sample data\n",
        "population_mean = 7  # The known population mean\n",
        "population_std = 2  # The known population standard deviation"
      ],
      "cell_type": "code",
      "metadata": {
        "id": "YxiWMlSQ16Pf"
      },
      "execution_count": 67,
      "outputs": []
    },
    {
      "source": [
        "# Calculate the sample mean\n",
        "sample_mean = np.mean(sample_data)\n",
        "\n",
        "# Calculate the Z-statistic\n",
        "z_statistic = (sample_mean - population_mean) / (population_std / np.sqrt(len(sample_data)))\n",
        "\n",
        "# Calculate the p-value (two-tailed test)\n",
        "p_value = 2 * (1 - stats.norm.cdf(abs(z_statistic)))\n",
        "\n",
        "# Print the results\n",
        "print(\"Z-statistic:\", z_statistic)\n",
        "print(\"P-value:\", p_value)"
      ],
      "cell_type": "code",
      "metadata": {
        "colab": {
          "base_uri": "https://localhost:8080/"
        },
        "id": "yysb-BO516_J",
        "outputId": "f45f08ad-634e-4d35-d902-7133cab3a4e2"
      },
      "execution_count": 68,
      "outputs": [
        {
          "output_type": "stream",
          "name": "stdout",
          "text": [
            "Z-statistic: 0.0\n",
            "P-value: 1.0\n"
          ]
        }
      ]
    },
    {
      "cell_type": "markdown",
      "source": [
        "***4) Perform a two-tailed Z-test using Python and visualize the decision region on a plot.***"
      ],
      "metadata": {
        "id": "QqODAxr_2BWm"
      }
    },
    {
      "source": [
        "import numpy as np\n",
        "import matplotlib.pyplot as plt\n",
        "from scipy import stats\n",
        "\n",
        "# Set the parameters for the Z-test\n",
        "mu = 0  # Population mean under the null hypothesis\n",
        "sigma = 1  # Population standard deviation\n",
        "alpha = 0.05  # Significance level (alpha)\n",
        "\n",
        "# Sample data (replace with your actual data)\n",
        "sample_data = np.random.normal(loc=0.5, scale=1, size=100)\n",
        "\n",
        "# Calculate the Z-statistic\n",
        "sample_mean = np.mean(sample_data)\n",
        "n = len(sample_data)\n",
        "z_statistic = (sample_mean - mu) / (sigma / np.sqrt(n))\n",
        "\n",
        "# Calculate the p-value (two-tailed)\n",
        "p_value = 2 * (1 - stats.norm.cdf(abs(z_statistic)))\n",
        "\n",
        "# Determine the critical values (two-tailed)\n",
        "critical_value = stats.norm.ppf(1 - alpha / 2)\n",
        "\n",
        "# Print the results\n",
        "print(\"Z-statistic:\", z_statistic)\n",
        "print(\"P-value:\", p_value)\n",
        "print(\"Critical value:\", critical_value)\n",
        "\n",
        "# Visualization\n",
        "x = np.linspace(-3, 3, 100)\n",
        "y = stats.norm.pdf(x, mu, sigma)\n",
        "\n",
        "plt.plot(x, y, label='Standard Normal Distribution')\n",
        "plt.axvline(-critical_value, color='red', linestyle='--', label='Critical Region')\n",
        "plt.axvline(critical_value, color='red', linestyle='--')\n",
        "plt.fill_between(x, y, where=(x < -critical_value) | (x > critical_value), color='red', alpha=0.2)\n",
        "plt.scatter(z_statistic, 0, color='blue', marker='o', label='Z-statistic')\n",
        "\n",
        "plt.title('Two-Tailed Z-Test')\n",
        "plt.xlabel('Z-score')\n",
        "plt.ylabel('Probability Density')\n",
        "plt.legend()\n",
        "plt.show()\n",
        "\n",
        "# Make a decision\n",
        "if p_value < alpha:\n",
        "    print(\"Reject the null hypothesis.\")\n",
        "else:\n",
        "    print(\"Fail to reject the null hypothesis.\")"
      ],
      "cell_type": "code",
      "metadata": {
        "colab": {
          "base_uri": "https://localhost:8080/",
          "height": 541
        },
        "id": "z8EF2z9W2SFj",
        "outputId": "fd1b0483-cfa6-49b5-e0c1-8699f948a6dc"
      },
      "execution_count": 69,
      "outputs": [
        {
          "output_type": "stream",
          "name": "stdout",
          "text": [
            "Z-statistic: 5.223045870499239\n",
            "P-value: 1.7600376844839616e-07\n",
            "Critical value: 1.959963984540054\n"
          ]
        },
        {
          "output_type": "display_data",
          "data": {
            "text/plain": [
              "<Figure size 640x480 with 1 Axes>"
            ],
            "image/png": "[encoded data removed]"
          },
          "metadata": {}
        },
        {
          "output_type": "stream",
          "name": "stdout",
          "text": [
            "Reject the null hypothesis.\n"
          ]
        }
      ]
    },
    {
      "cell_type": "markdown",
      "source": [
        "***5) Create a Python function that calculates and visualizes Type 1 and Type 2 errors during hypothesis testing.***"
      ],
      "metadata": {
        "id": "NR51TQ3I2Us9"
      }
    },
    {
      "source": [
        "import numpy as np\n",
        "import matplotlib.pyplot as plt\n",
        "from scipy.stats import norm\n",
        "\n",
        "def visualize_errors(mu0, mu1, sigma, alpha, n):\n",
        "    \"\"\"\n",
        "    Calculates and visualizes Type I and Type II errors for hypothesis testing.\n",
        "\n",
        "    Args:\n",
        "        mu0: Mean under the null hypothesis.\n",
        "        mu1: Mean under the alternative hypothesis.\n",
        "        sigma: Standard deviation.\n",
        "        alpha: Significance level (Type I error rate).\n",
        "        n: Sample size.\n",
        "\n",
        "    Returns:\n",
        "        None (Displays the visualization)\n",
        "    \"\"\"\n",
        "\n",
        "    # Critical value for the null hypothesis\n",
        "    critical_value = norm.ppf(1 - alpha, loc=mu0, scale=sigma / np.sqrt(n))\n",
        "\n",
        "    # Type II error calculation\n",
        "    beta = norm.cdf(critical_value, loc=mu1, scale=sigma / np.sqrt(n))\n",
        "\n",
        "    # X-axis values for plotting\n",
        "    x = np.linspace(mu0 - 4 * sigma / np.sqrt(n), mu1 + 4 * sigma / np.sqrt(n), 1000)\n",
        "\n",
        "    # Plotting distributions\n",
        "    plt.plot(x, norm.pdf(x, loc=mu0, scale=sigma / np.sqrt(n)), label='Null Hypothesis')\n",
        "    plt.plot(x, norm.pdf(x, loc=mu1, scale=sigma / np.sqrt(n)), label='Alternative Hypothesis')\n",
        "\n",
        "    # Shading error regions\n",
        "    plt.fill_between(x[x >= critical_value], 0, norm.pdf(x[x >= critical_value], loc=mu0, scale=sigma / np.sqrt(n)), alpha=0.3, color='red', label='Type I Error')\n",
        "    plt.fill_between(x[x <= critical_value], 0, norm.pdf(x[x <= critical_value], loc=mu1, scale=sigma / np.sqrt(n)), alpha=0.3, color='blue', label='Type II Error')\n",
        "\n",
        "    # Plot settings\n",
        "    plt.title('Type I and Type II Errors')\n",
        "    plt.xlabel('Sample Mean')\n",
        "    plt.ylabel('Probability Density')\n",
        "    plt.legend()\n",
        "    plt.show()\n",
        "\n",
        "    # Print error rates\n",
        "    print(f\"Type I Error Rate (Alpha): {alpha}\")\n",
        "    print(f\"Type II Error Rate (Beta): {beta}\")\n",
        "    print(f\"Power (1 - Beta): {1 - beta}\")\n",
        "\n",
        "# Example usage:\n",
        "visualize_errors(mu0=0, mu1=1, sigma=1, alpha=0.05, n=25)"
      ],
      "cell_type": "code",
      "metadata": {
        "colab": {
          "base_uri": "https://localhost:8080/",
          "height": 524
        },
        "id": "Znt1dZWW2j6Q",
        "outputId": "28558cdf-41ab-4a9d-b8ab-7e896d8ce72e"
      },
      "execution_count": 70,
      "outputs": [
        {
          "output_type": "display_data",
          "data": {
            "text/plain": [
              "<Figure size 640x480 with 1 Axes>"
            ],
            "image/png": "[encoded data removed]"
          },
          "metadata": {}
        },
        {
          "output_type": "stream",
          "name": "stdout",
          "text": [
            "Type I Error Rate (Alpha): 0.05\n",
            "Type II Error Rate (Beta): 0.0003966150045262919\n",
            "Power (1 - Beta): 0.9996033849954737\n"
          ]
        }
      ]
    },
    {
      "cell_type": "markdown",
      "source": [
        "***6) Write a Python program to perform an independent T-test and interpret the results.***"
      ],
      "metadata": {
        "id": "G-IC-57l2mM1"
      }
    },
    {
      "source": [
        "import scipy.stats as stats\n",
        "\n",
        "# Sample data for two groups\n",
        "group1 = [10, 12, 14, 16, 18]\n",
        "group2 = [11, 13, 15, 17, 19]\n",
        "\n",
        "# Perform the independent t-test\n",
        "t_statistic, p_value = stats.ttest_ind(group1, group2)\n",
        "\n",
        "# Print the results\n",
        "print(\"T-statistic:\", t_statistic)\n",
        "print(\"P-value:\", p_value)\n",
        "\n",
        "# Interpret the results\n",
        "alpha = 0.05  # Significance level\n",
        "\n",
        "if p_value < alpha:\n",
        "    print(\"Reject the null hypothesis.\")\n",
        "    print(\"There is a statistically significant difference between the means of the two groups.\")\n",
        "else:\n",
        "    print(\"Fail to reject the null hypothesis.\")\n",
        "    print(\"There is no statistically significant difference between the means of the two groups.\")"
      ],
      "cell_type": "code",
      "metadata": {
        "colab": {
          "base_uri": "https://localhost:8080/"
        },
        "id": "G_zEY0Bw2yEz",
        "outputId": "af765f1f-f693-4a95-c85e-897286c5bb12"
      },
      "execution_count": 71,
      "outputs": [
        {
          "output_type": "stream",
          "name": "stdout",
          "text": [
            "T-statistic: -0.5\n",
            "P-value: 0.6305360755569764\n",
            "Fail to reject the null hypothesis.\n",
            "There is no statistically significant difference between the means of the two groups.\n"
          ]
        }
      ]
    },
    {
      "cell_type": "markdown",
      "source": [
        "***7) Perform a paired sample T-test using Python and visualize the comparison result.***"
      ],
      "metadata": {
        "id": "o6qKzT5s20ke"
      }
    },
    {
      "source": [
        "import numpy as np\n",
        "import scipy.stats as stats\n",
        "import matplotlib.pyplot as plt"
      ],
      "cell_type": "code",
      "metadata": {
        "id": "EXaxy3wb3BpM"
      },
      "execution_count": 72,
      "outputs": []
    },
    {
      "source": [
        "# Generate sample data for before and after measurements\n",
        "before = np.array([12, 14, 16, 18, 20, 22, 24, 26, 28, 30])\n",
        "after = np.array([14, 16, 18, 20, 22, 24, 26, 28, 30, 32])"
      ],
      "cell_type": "code",
      "metadata": {
        "id": "5DqaWovV3CMH"
      },
      "execution_count": 73,
      "outputs": []
    },
    {
      "source": [
        "# Perform the paired sample T-test\n",
        "t_statistic, p_value = stats.ttest_rel(before, after)\n",
        "\n",
        "# Print the results\n",
        "print(\"T-statistic:\", t_statistic)\n",
        "print(\"P-value:\", p_value)"
      ],
      "cell_type": "code",
      "metadata": {
        "colab": {
          "base_uri": "https://localhost:8080/"
        },
        "id": "4wLqSsHZ3Dmv",
        "outputId": "77a69f8c-7a4e-438e-80ca-a0683145a41a"
      },
      "execution_count": 74,
      "outputs": [
        {
          "output_type": "stream",
          "name": "stdout",
          "text": [
            "T-statistic: -inf\n",
            "P-value: 0.0\n"
          ]
        },
        {
          "output_type": "stream",
          "name": "stderr",
          "text": [
            "/usr/local/lib/python3.11/dist-packages/scipy/stats/_axis_nan_policy.py:430: RuntimeWarning: Precision loss occurred in moment calculation due to catastrophic cancellation. This occurs when the data are nearly identical. Results may be unreliable.\n",
            "  return hypotest_fun_in(*args, **kwds)\n"
          ]
        }
      ]
    },
    {
      "source": [
        "# Create a bar plot to visualize the comparison\n",
        "plt.bar(['Before', 'After'], [before.mean(), after.mean()], yerr=[before.std(), after.std()], capsize=5)\n",
        "plt.title('Paired Sample T-test')\n",
        "plt.ylabel('Mean Value')\n",
        "plt.show()"
      ],
      "cell_type": "code",
      "metadata": {
        "colab": {
          "base_uri": "https://localhost:8080/",
          "height": 452
        },
        "id": "mvbEHkE_3Emx",
        "outputId": "d85c486b-1222-4641-ecf1-7f58b8c3a96f"
      },
      "execution_count": 75,
      "outputs": [
        {
          "output_type": "display_data",
          "data": {
            "text/plain": [
              "<Figure size 640x480 with 1 Axes>"
            ],
            "image/png": "[encoded data removed]"
          },
          "metadata": {}
        }
      ]
    },
    {
      "cell_type": "markdown",
      "source": [
        "***8) Simulate data and perform both Z-test and T-test, then compare the results using Python.***"
      ],
      "metadata": {
        "id": "8V6EQgBv3JME"
      }
    },
    {
      "source": [
        "import numpy as np\n",
        "from scipy import stats\n",
        "\n",
        "# 1. Simulate Data:\n",
        "# Generate two random samples (assuming normal distribution)\n",
        "np.random.seed(42)  # Set seed for reproducibility\n",
        "sample_size = 50\n",
        "sample1 = np.random.normal(loc=10, scale=2, size=sample_size)\n",
        "sample2 = np.random.normal(loc=11, scale=2, size=sample_size)\n",
        "\n",
        "# 2. Z-test:\n",
        "# Perform Z-test (assuming known population variances)\n",
        "# In this case, I'll use the known standard deviations (scale=2)\n",
        "z_statistic, p_value_z = stats.ttest_ind(\n",
        "    sample1, sample2, equal_var=True  # Assume equal variances for Z-test\n",
        ")\n",
        "\n",
        "# 3. T-test:\n",
        "# Perform T-test (population variances are unknown)\n",
        "t_statistic, p_value_t = stats.ttest_ind(\n",
        "    sample1, sample2, equal_var=True  # Assume equal variances for T-test\n",
        ")\n",
        "\n",
        "\n",
        "# 4. Compare Results:\n",
        "print(\"Z-test Results:\")\n",
        "print(\"Z-statistic:\", z_statistic)\n",
        "print(\"P-value (Z-test):\", p_value_z)\n",
        "\n",
        "print(\"\\nT-test Results:\")\n",
        "print(\"T-statistic:\", t_statistic)\n",
        "print(\"P-value (T-test):\", p_value_t)\n",
        "\n",
        "print(\"\\nComparison:\")\n",
        "print(\"The Z-statistic and T-statistic are very similar.\")\n",
        "print(\"The P-values are also very similar.\")"
      ],
      "cell_type": "code",
      "metadata": {
        "colab": {
          "base_uri": "https://localhost:8080/"
        },
        "id": "BW5PnQAP5Fo2",
        "outputId": "e7660597-e039-4dd7-9a76-067ca20ade0f"
      },
      "execution_count": 76,
      "outputs": [
        {
          "output_type": "stream",
          "name": "stdout",
          "text": [
            "Z-test Results:\n",
            "Z-statistic: -4.108723928204804\n",
            "P-value (Z-test): 8.261945608702763e-05\n",
            "\n",
            "T-test Results:\n",
            "T-statistic: -4.108723928204804\n",
            "P-value (T-test): 8.261945608702763e-05\n",
            "\n",
            "Comparison:\n",
            "The Z-statistic and T-statistic are very similar.\n",
            "The P-values are also very similar.\n"
          ]
        }
      ]
    },
    {
      "cell_type": "markdown",
      "source": [
        "***9) Write a Python function to calculate the confidence interval for a sample mean and explain its significance***"
      ],
      "metadata": {
        "id": "mEBpwQwU5Jxs"
      }
    },
    {
      "source": [
        "import numpy as np\n",
        "import scipy.stats as stats\n",
        "\n",
        "def calculate_confidence_interval(data, confidence_level=0.95):\n",
        "    \"\"\"\n",
        "    Calculates the confidence interval for a sample mean.\n",
        "\n",
        "    Args:\n",
        "        data (list or numpy array): The sample data.\n",
        "        confidence_level (float, optional): The desired confidence level (e.g., 0.95 for a 95% confidence interval). Defaults to 0.95.\n",
        "\n",
        "    Returns:\n",
        "        tuple: A tuple containing the lower and upper bounds of the confidence interval.\n",
        "    \"\"\"\n",
        "\n",
        "    # Calculate sample mean and standard deviation\n",
        "    sample_mean = np.mean(data)\n",
        "    sample_std = np.std(data, ddof=1)  # Use ddof=1 for sample standard deviation\n",
        "\n",
        "    # Calculate the critical value (t-score)\n",
        "    n = len(data)  # Sample size\n",
        "    alpha = 1 - confidence_level  # Significance level\n",
        "    critical_value = stats.t.ppf(1 - alpha / 2, df=n - 1)  # Using t-distribution\n",
        "\n",
        "    # Calculate margin of error\n",
        "    margin_of_error = critical_value * (sample_std / np.sqrt(n))\n",
        "\n",
        "    # Calculate confidence interval bounds\n",
        "    lower_bound = sample_mean - margin_of_error\n",
        "    upper_bound = sample_mean + margin_of_error\n",
        "\n",
        "    return lower_bound, upper_bound\n",
        "\n",
        "# Example usage\n",
        "data = [10, 12, 15, 18, 13, 11, 14, 16, 17, 19]\n",
        "lower, upper = calculate_confidence_interval(data, confidence_level=0.95)\n",
        "print(f\"95% Confidence Interval: ({lower:.2f}, {upper:.2f})\")"
      ],
      "cell_type": "code",
      "metadata": {
        "colab": {
          "base_uri": "https://localhost:8080/"
        },
        "id": "oEgOErIR5Vjp",
        "outputId": "34cc4626-b312-4785-9537-a9f68e60bfd1"
      },
      "execution_count": 77,
      "outputs": [
        {
          "output_type": "stream",
          "name": "stdout",
          "text": [
            "95% Confidence Interval: (12.33, 16.67)\n"
          ]
        }
      ]
    },
    {
      "cell_type": "markdown",
      "source": [
        "***10) Write a Python program to calculate the margin of error for a given confidence level using sample data.***"
      ],
      "metadata": {
        "id": "oN08xK6q5X2Q"
      }
    },
    {
      "source": [
        "import scipy.stats as stats\n",
        "import numpy as np\n",
        "\n",
        "def calculate_margin_of_error(confidence_level, sample_data):\n",
        "  \"\"\"Calculates the margin of error for a given confidence level using sample data.\n",
        "\n",
        "  Args:\n",
        "    confidence_level: The desired confidence level (e.g., 0.95 for 95%).\n",
        "    sample_data: A list or NumPy array containing the sample data.\n",
        "\n",
        "  Returns:\n",
        "    The margin of error.\n",
        "  \"\"\"\n",
        "\n",
        "  # Calculate the sample mean and standard deviation\n",
        "  sample_mean = np.mean(sample_data)\n",
        "  sample_std = np.std(sample_data, ddof=1)  # Use ddof=1 for sample standard deviation\n",
        "\n",
        "  # Calculate the critical value (z-score) for the given confidence level\n",
        "  alpha = 1 - confidence_level  # Significance level\n",
        "  critical_value = stats.norm.ppf(1 - alpha / 2)  # Two-tailed test\n",
        "\n",
        "  # Calculate the margin of error\n",
        "  margin_of_error = critical_value * (sample_std / np.sqrt(len(sample_data)))\n",
        "\n",
        "  return margin_of_error\n",
        "\n",
        "# Example usage\n",
        "sample_data = [10, 12, 15, 18, 20, 22, 25]\n",
        "confidence_level = 0.95\n",
        "\n",
        "margin_of_error = calculate_margin_of_error(confidence_level, sample_data)\n",
        "\n",
        "print(\"Margin of Error:\", margin_of_error)"
      ],
      "cell_type": "code",
      "metadata": {
        "colab": {
          "base_uri": "https://localhost:8080/"
        },
        "id": "SM7rzBBX5lLJ",
        "outputId": "43945a8b-572a-4f6b-d400-6e6f96480d12"
      },
      "execution_count": 78,
      "outputs": [
        {
          "output_type": "stream",
          "name": "stdout",
          "text": [
            "Margin of Error: 4.008916231587234\n"
          ]
        }
      ]
    },
    {
      "cell_type": "markdown",
      "source": [
        "***11) Implement a Bayesian inference method using Bayes' Theorem in Python and explain the process.***"
      ],
      "metadata": {
        "id": "fXk2L5hz5nYE"
      }
    },
    {
      "source": [
        "import numpy as np\n",
        "\n",
        "def bayesian_inference(prior, likelihood, evidence):\n",
        "  \"\"\"\n",
        "  Performs Bayesian inference using Bayes' Theorem.\n",
        "\n",
        "  Args:\n",
        "      prior: Prior probability distribution (a NumPy array).\n",
        "      likelihood: Likelihood function (a NumPy array).\n",
        "      evidence: Evidence or data (a NumPy array).\n",
        "\n",
        "  Returns:\n",
        "      posterior: Posterior probability distribution (a NumPy array).\n",
        "  \"\"\"\n",
        "\n",
        "  # Calculate the joint probability\n",
        "  joint_probability = likelihood * prior\n",
        "\n",
        "  # Calculate the marginal probability of the evidence\n",
        "  marginal_probability = np.sum(joint_probability)\n",
        "\n",
        "  # Calculate the posterior probability\n",
        "  posterior = joint_probability / marginal_probability\n",
        "\n",
        "  return posterior\n",
        "\n",
        "# Example Usage:\n",
        "# Assume a prior distribution for a coin bias (probability of heads)\n",
        "prior = np.array([0.5, 0.5])  # 50% chance of fair coin, 50% chance of biased coin\n",
        "\n",
        "# Likelihood function: probability of observing heads given the coin bias\n",
        "likelihood = np.array([[0.5, 0.5], [0.8, 0.2]])\n",
        "# likelihood[0]: probabilities of heads/tails for fair coin\n",
        "# likelihood[1]: probabilities of heads/tails for biased coin\n",
        "\n",
        "# Evidence: observe 1 head (evidence[0]) and 1 tail (evidence[1])\n",
        "evidence = np.array([1, 1])\n",
        "\n",
        "# Perform Bayesian inference\n",
        "posterior = bayesian_inference(prior, likelihood, evidence)\n",
        "\n",
        "# Print the results\n",
        "print(\"Prior distribution:\", prior)\n",
        "print(\"Posterior distribution:\", posterior)"
      ],
      "cell_type": "code",
      "metadata": {
        "colab": {
          "base_uri": "https://localhost:8080/"
        },
        "id": "Wrvkk7rA5y0E",
        "outputId": "3c7e31bb-74c7-4df4-db54-bb655722553e"
      },
      "execution_count": 79,
      "outputs": [
        {
          "output_type": "stream",
          "name": "stdout",
          "text": [
            "Prior distribution: [0.5 0.5]\n",
            "Posterior distribution: [[0.25 0.25]\n",
            " [0.4  0.1 ]]\n"
          ]
        }
      ]
    },
    {
      "cell_type": "markdown",
      "source": [
        "***12) Perform a Chi-square test for independence between two categorical variables in Python.***"
      ],
      "metadata": {
        "id": "gAyRkrL4500w"
      }
    },
    {
      "source": [
        "import pandas as pd\n",
        "from scipy.stats import chi2_contingency"
      ],
      "cell_type": "code",
      "metadata": {
        "id": "KZYgYCXa6EwI"
      },
      "execution_count": 80,
      "outputs": []
    },
    {
      "source": [
        "import numpy as np\n",
        "# Assuming your data is in two lists: 'group1' and 'group2'\n",
        "contingency_table = np.array([group1, group2])"
      ],
      "cell_type": "code",
      "metadata": {
        "id": "iT05KL4u6GQk"
      },
      "execution_count": 82,
      "outputs": []
    },
    {
      "source": [
        "chi2_stat, p_val, dof, expected = chi2_contingency(contingency_table)"
      ],
      "cell_type": "code",
      "metadata": {
        "id": "C6w0gRTP6G5c"
      },
      "execution_count": 83,
      "outputs": []
    },
    {
      "source": [
        "import pandas as pd\n",
        "from scipy.stats import chi2_contingency\n",
        "\n",
        "# Sample data\n",
        "data = {'Gender': ['Male', 'Male', 'Female', 'Female', 'Male', 'Female'],\n",
        "        'Smoker': ['Yes', 'No', 'Yes', 'No', 'Yes', 'No']}\n",
        "df = pd.DataFrame(data)\n",
        "\n",
        "# Create contingency table\n",
        "contingency_table = pd.crosstab(df['Gender'], df['Smoker'])\n",
        "\n",
        "# Perform Chi-square test\n",
        "chi2_stat, p_val, dof, expected = chi2_contingency(contingency_table)\n",
        "\n",
        "# Print results\n",
        "print(\"Chi-square statistic:\", chi2_stat)\n",
        "print(\"P-value:\", p_val)\n",
        "print(\"Degrees of freedom:\", dof)\n",
        "print(\"Expected frequencies:\", expected)\n",
        "\n",
        "# Interpret results\n",
        "alpha = 0.05  # Significance level\n",
        "if p_val < alpha:\n",
        "    print(\"There is a significant association between gender and smoking.\")\n",
        "else:\n",
        "    print(\"There is no significant association between gender and smoking.\")"
      ],
      "cell_type": "code",
      "metadata": {
        "colab": {
          "base_uri": "https://localhost:8080/"
        },
        "id": "byxyMOeS6Hm8",
        "outputId": "186df990-08b8-4b1c-83cf-ae3f6a3b6a27"
      },
      "execution_count": 84,
      "outputs": [
        {
          "output_type": "stream",
          "name": "stdout",
          "text": [
            "Chi-square statistic: 0.0\n",
            "P-value: 1.0\n",
            "Degrees of freedom: 1\n",
            "Expected frequencies: [[1.5 1.5]\n",
            " [1.5 1.5]]\n",
            "There is no significant association between gender and smoking.\n"
          ]
        }
      ]
    },
    {
      "cell_type": "markdown",
      "source": [
        "***13) Write a Python program to calculate the expected frequencies for a Chi-square test based on observed data.***"
      ],
      "metadata": {
        "id": "YsoM67sm6N0o"
      }
    },
    {
      "source": [
        "import numpy as np\n",
        "\n",
        "def calculate_expected_frequencies(observed_data):\n",
        "    \"\"\"\n",
        "    Calculates the expected frequencies for a Chi-square test.\n",
        "\n",
        "    Args:\n",
        "        observed_data: A NumPy array or list representing the observed data.\n",
        "\n",
        "    Returns:\n",
        "        A NumPy array representing the expected frequencies.\n",
        "    \"\"\"\n",
        "\n",
        "    # Calculate row and column sums\n",
        "    row_sums = np.sum(observed_data, axis=1)\n",
        "    col_sums = np.sum(observed_data, axis=0)\n",
        "    total_sum = np.sum(observed_data)\n",
        "\n",
        "    # Calculate expected frequencies for each cell\n",
        "    expected_frequencies = np.zeros_like(observed_data, dtype=float)\n",
        "    for i in range(observed_data.shape[0]):\n",
        "        for j in range(observed_data.shape[1]):\n",
        "            expected_frequencies[i, j] = (row_sums[i] * col_sums[j]) / total_sum\n",
        "\n",
        "    return expected_frequencies\n",
        "\n",
        "# Example usage\n",
        "observed_data = np.array([[10, 20, 30], [40, 50, 60]])\n",
        "expected_frequencies = calculate_expected_frequencies(observed_data)\n",
        "print(\"Observed Data:\")\n",
        "print(observed_data)\n",
        "print(\"\\nExpected Frequencies:\")\n",
        "print(expected_frequencies)"
      ],
      "cell_type": "code",
      "metadata": {
        "colab": {
          "base_uri": "https://localhost:8080/"
        },
        "id": "PEJwz06B6dO5",
        "outputId": "1116b5f7-c016-47ec-d50b-e660a7bf3f45"
      },
      "execution_count": 85,
      "outputs": [
        {
          "output_type": "stream",
          "name": "stdout",
          "text": [
            "Observed Data:\n",
            "[[10 20 30]\n",
            " [40 50 60]]\n",
            "\n",
            "Expected Frequencies:\n",
            "[[14.28571429 20.         25.71428571]\n",
            " [35.71428571 50.         64.28571429]]\n"
          ]
        }
      ]
    },
    {
      "cell_type": "markdown",
      "source": [
        "***14) Perform a goodness-of-fit test using Python to compare the observed data to an expected distribution.***"
      ],
      "metadata": {
        "id": "XhyeKOgi6fSo"
      }
    },
    {
      "source": [
        "import numpy as np\n",
        "from scipy import stats"
      ],
      "cell_type": "code",
      "metadata": {
        "id": "qJjcD5876sO7"
      },
      "execution_count": 86,
      "outputs": []
    },
    {
      "source": [
        "# Observed frequencies (your data)\n",
        "observed_frequencies = np.array([10, 15, 25, 20, 30])\n",
        "\n",
        "# Expected frequencies (based on a theoretical distribution or assumption)\n",
        "expected_frequencies = np.array([15, 15, 20, 20, 30])"
      ],
      "cell_type": "code",
      "metadata": {
        "id": "2-9jkdv36th5"
      },
      "execution_count": 87,
      "outputs": []
    },
    {
      "source": [
        "# Perform the test\n",
        "chi_square_statistic, p_value = stats.chisquare(observed_frequencies, expected_frequencies)\n",
        "\n",
        "# Print the results\n",
        "print(\"Chi-square statistic:\", chi_square_statistic)\n",
        "print(\"P-value:\", p_value)"
      ],
      "cell_type": "code",
      "metadata": {
        "colab": {
          "base_uri": "https://localhost:8080/"
        },
        "id": "hauvuG0H6uGF",
        "outputId": "2bae8bef-ab8b-44cd-b760-5a6a7531559f"
      },
      "execution_count": 88,
      "outputs": [
        {
          "output_type": "stream",
          "name": "stdout",
          "text": [
            "Chi-square statistic: 2.916666666666667\n",
            "P-value: 0.5718664923800112\n"
          ]
        }
      ]
    }
  ]
}